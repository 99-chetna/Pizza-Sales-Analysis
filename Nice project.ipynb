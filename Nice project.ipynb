{
 "cells": [
  {
   "cell_type": "code",
   "execution_count": 38,
   "id": "49df84d4-dab9-4db9-b5a4-7e52d218f408",
   "metadata": {},
   "outputs": [],
   "source": [
    "import mysql.connector\n",
    "import pandas as pd\n",
    "from tabulate import tabulate\n",
    "\n",
    "# Connect to your MySQL database\n",
    "conn = mysql.connector.connect(\n",
    "    host=\"localhost\",     \n",
    "    user=\"root\",           \n",
    "    password=\"123456\",\n",
    "    database=\"pizzahut\" \n",
    ")\n",
    "\n",
    "# Function to run queries and get DataFrame\n",
    "def run_query(query):\n",
    "    return pd.read_sql(query, conn)\n"
   ]
  },
  {
   "cell_type": "raw",
   "id": "3b39225b-187b-44d4-95b3-67bc856d2951",
   "metadata": {},
   "source": [
    "This Python script connects to a MySQL database and allows you to run SQL queries from inside Python, automatically converting the results into a Pandas DataFrame for easy analysis.\n",
    "\n",
    "Defines a helper function run_query(query) that:\n",
    "1. Sends the SQL query to the MySQL database.\n",
    "2. Retrieves the results.\n",
    "3. Returns them as a Pandas DataFrame."
   ]
  },
  {
   "cell_type": "code",
   "execution_count": 39,
   "id": "cfcbbfb4-2b0c-452d-bfff-4d75c70b12de",
   "metadata": {},
   "outputs": [
    {
     "name": "stdout",
     "output_type": "stream",
     "text": [
      "+----------------+\n",
      "|   Total Orders |\n",
      "|----------------|\n",
      "|          21350 |\n",
      "+----------------+\n"
     ]
    },
    {
     "name": "stderr",
     "output_type": "stream",
     "text": [
      "C:\\Users\\babyd\\AppData\\Local\\Temp\\ipykernel_4580\\3787878548.py:15: UserWarning: pandas only supports SQLAlchemy connectable (engine/connection) or database string URI or sqlite3 DBAPI2 connection. Other DBAPI2 objects are not tested. Please consider using SQLAlchemy.\n",
      "  return pd.read_sql(query, conn)\n"
     ]
    }
   ],
   "source": [
    "\n",
    "# Q: Total number of orders\n",
    "query = \"\"\"\n",
    "SELECT COUNT(order_id) AS total_orders\n",
    "FROM orders;\n",
    "\"\"\"\n",
    "\n",
    "a = run_query(query)\n",
    "\n",
    "# Print in table format\n",
    "print(tabulate(a, headers=[\"Total Orders\"], tablefmt=\"psql\", showindex=False))\n",
    "\n"
   ]
  },
  {
   "cell_type": "code",
   "execution_count": 40,
   "id": "9ea4be87-c165-405d-8270-8e648e47bcff",
   "metadata": {},
   "outputs": [
    {
     "name": "stderr",
     "output_type": "stream",
     "text": [
      "C:\\Users\\babyd\\AppData\\Local\\Temp\\ipykernel_4580\\3787878548.py:15: UserWarning: pandas only supports SQLAlchemy connectable (engine/connection) or database string URI or sqlite3 DBAPI2 connection. Other DBAPI2 objects are not tested. Please consider using SQLAlchemy.\n",
      "  return pd.read_sql(query, conn)\n"
     ]
    },
    {
     "name": "stdout",
     "output_type": "stream",
     "text": [
      "+-----------------+\n",
      "|   Total Revenue |\n",
      "|-----------------|\n",
      "|          817860 |\n",
      "+-----------------+\n"
     ]
    }
   ],
   "source": [
    "# Q: Calculate the total revenue generated from pizza sales\n",
    "query = \"\"\"\n",
    "SELECT \n",
    "    SUM(orders_details.quantity * pizzas.price) AS revenue\n",
    "FROM\n",
    "    orders_details\n",
    "JOIN\n",
    "    pizzas ON pizzas.pizza_id = orders_details.pizza_id;\n",
    "\"\"\"\n",
    "\n",
    "revenue_df = run_query(query)\n",
    "\n",
    "# Print in table format\n",
    "print(tabulate(revenue_df, headers=[\"Total Revenue\"], tablefmt=\"psql\", showindex=False))"
   ]
  },
  {
   "cell_type": "raw",
   "id": "9a39471a-7d60-4288-a106-fe314dc68c06",
   "metadata": {},
   "source": [
    "It calculates the total revenue by multiplying the quantity of each pizza sold with its price, across all orders, by joining the order details table with the pizza details table."
   ]
  },
  {
   "cell_type": "code",
   "execution_count": 41,
   "id": "cfbae57e-2265-4605-ab9a-1ddc15b450cf",
   "metadata": {},
   "outputs": [
    {
     "name": "stdout",
     "output_type": "stream",
     "text": [
      "+-----------------+---------+\n",
      "| Pizza Name      |   Price |\n",
      "|-----------------+---------|\n",
      "| The Greek Pizza |   35.95 |\n",
      "+-----------------+---------+\n"
     ]
    },
    {
     "name": "stderr",
     "output_type": "stream",
     "text": [
      "C:\\Users\\babyd\\AppData\\Local\\Temp\\ipykernel_4580\\3787878548.py:15: UserWarning: pandas only supports SQLAlchemy connectable (engine/connection) or database string URI or sqlite3 DBAPI2 connection. Other DBAPI2 objects are not tested. Please consider using SQLAlchemy.\n",
      "  return pd.read_sql(query, conn)\n"
     ]
    }
   ],
   "source": [
    "# Q: Identify the highest-priced pizza\n",
    "query = \"\"\"\n",
    "SELECT \n",
    "    pizza_types.name, \n",
    "    pizzas.price\n",
    "FROM \n",
    "    pizza_types \n",
    "JOIN \n",
    "    pizzas ON pizza_types.pizza_type_id = pizzas.pizza_type_id\n",
    "ORDER BY \n",
    "    pizzas.price DESC\n",
    "LIMIT 1;\n",
    "\"\"\"\n",
    "\n",
    "highest_priced_pizza = run_query(query)\n",
    "\n",
    "# Print in table format\n",
    "print(tabulate(highest_priced_pizza, headers=[\"Pizza Name\", \"Price\"], tablefmt=\"psql\", showindex=False))"
   ]
  },
  {
   "cell_type": "raw",
   "id": "5acfed57-f20a-4b36-ad69-d87f6bf6a1f4",
   "metadata": {},
   "source": [
    "This query finds the name and price of the most expensive pizza by joining pizza details with their types, sorting by price in descending order, and returning only the first one."
   ]
  },
  {
   "cell_type": "code",
   "execution_count": 42,
   "id": "7f7b16ce-0c5f-4540-8c79-06aff4af368e",
   "metadata": {},
   "outputs": [
    {
     "name": "stderr",
     "output_type": "stream",
     "text": [
      "C:\\Users\\babyd\\AppData\\Local\\Temp\\ipykernel_4580\\3787878548.py:15: UserWarning: pandas only supports SQLAlchemy connectable (engine/connection) or database string URI or sqlite3 DBAPI2 connection. Other DBAPI2 objects are not tested. Please consider using SQLAlchemy.\n",
      "  return pd.read_sql(query, conn)\n"
     ]
    },
    {
     "name": "stdout",
     "output_type": "stream",
     "text": [
      "+----------------------------+--------------------+\n",
      "| Pizza Name                 |   Quantity Ordered |\n",
      "|----------------------------+--------------------|\n",
      "| The Classic Deluxe Pizza   |               2453 |\n",
      "| The Barbecue Chicken Pizza |               2432 |\n",
      "| The Hawaiian Pizza         |               2422 |\n",
      "| The Pepperoni Pizza        |               2418 |\n",
      "| The Thai Chicken Pizza     |               2371 |\n",
      "+----------------------------+--------------------+\n"
     ]
    }
   ],
   "source": [
    "# Q: Top 5 most ordered pizzas by quantity\n",
    "query = \"\"\"\n",
    "SELECT \n",
    "    pizza_types.name, \n",
    "    SUM(orders_details.quantity) AS quantity\n",
    "FROM\n",
    "    pizza_types\n",
    "JOIN\n",
    "    pizzas ON pizza_types.pizza_type_id = pizzas.pizza_type_id\n",
    "JOIN\n",
    "    orders_details ON orders_details.pizza_id = pizzas.pizza_id\n",
    "GROUP BY \n",
    "    pizza_types.name\n",
    "ORDER BY \n",
    "    quantity DESC\n",
    "LIMIT 5;\n",
    "\"\"\"\n",
    "\n",
    "top_5_pizzas = run_query(query)\n",
    "\n",
    "# Print in table format\n",
    "print(tabulate(top_5_pizzas, headers=[\"Pizza Name\", \"Quantity Ordered\"], tablefmt=\"psql\", showindex=False))\n"
   ]
  },
  {
   "cell_type": "raw",
   "id": "1a530a15-270e-46ac-b91e-5d5c879f46a6",
   "metadata": {},
   "source": [
    "This query finds the top 5 pizzas that were ordered the most (by total quantity sold) by joining pizza type information with their sizes and order details, summing up the quantities, and sorting them from most popular to least."
   ]
  },
  {
   "cell_type": "code",
   "execution_count": 43,
   "id": "8eca66c6-cc4b-4ff0-a7ff-0db67439e8a2",
   "metadata": {},
   "outputs": [
    {
     "name": "stderr",
     "output_type": "stream",
     "text": [
      "C:\\Users\\babyd\\AppData\\Local\\Temp\\ipykernel_4580\\3787878548.py:15: UserWarning: pandas only supports SQLAlchemy connectable (engine/connection) or database string URI or sqlite3 DBAPI2 connection. Other DBAPI2 objects are not tested. Please consider using SQLAlchemy.\n",
      "  return pd.read_sql(query, conn)\n"
     ]
    },
    {
     "name": "stdout",
     "output_type": "stream",
     "text": [
      "+------------+------------------+\n",
      "| Category   |   Total Quantity |\n",
      "|------------+------------------|\n",
      "| Classic    |            14888 |\n",
      "| Supreme    |            11987 |\n",
      "| Veggie     |            11649 |\n",
      "| Chicken    |            11050 |\n",
      "+------------+------------------+\n"
     ]
    }
   ],
   "source": [
    "# Q: Total quantity of each pizza category ordered\n",
    "query = \"\"\"\n",
    "SELECT \n",
    "    pizza_types.category,\n",
    "    SUM(orders_details.quantity) AS quantity\n",
    "FROM\n",
    "    pizza_types\n",
    "JOIN\n",
    "    pizzas ON pizza_types.pizza_type_id = pizzas.pizza_type_id\n",
    "JOIN\n",
    "    orders_details ON orders_details.pizza_id = pizzas.pizza_id\n",
    "GROUP BY \n",
    "    pizza_types.category\n",
    "ORDER BY \n",
    "    quantity DESC;\n",
    "\"\"\"\n",
    "\n",
    "category_quantity = run_query(query)\n",
    "\n",
    "# Print in table format\n",
    "print(tabulate(category_quantity, headers=[\"Category\", \"Total Quantity\"], tablefmt=\"psql\", showindex=False))\n"
   ]
  },
  {
   "cell_type": "raw",
   "id": "877cb61a-2a12-4de6-a1a4-9d57246605f1",
   "metadata": {},
   "source": [
    "This query finds how many pizzas were sold in each category by summing up the quantities in orders, grouping them by category, and sorting them from most to least popular"
   ]
  },
  {
   "cell_type": "code",
   "execution_count": 44,
   "id": "64b720bd-dce0-4342-8d5f-4b8a0744ce32",
   "metadata": {},
   "outputs": [
    {
     "data": {
      "image/png": "[encoded data removed]",
      "text/plain": [
       "<Figure size 640x480 with 1 Axes>"
      ]
     },
     "metadata": {},
     "output_type": "display_data"
    }
   ],
   "source": [
    "import matplotlib.pyplot as plt\n",
    "\n",
    "plt.bar(category_quantity['category'], category_quantity['quantity'])\n",
    "plt.xlabel(\"Category\")\n",
    "plt.ylabel(\"Total Quantity Ordered\")\n",
    "plt.title(\"Total Quantity per Pizza Category\")\n",
    "plt.show()\n"
   ]
  },
  {
   "cell_type": "code",
   "execution_count": 45,
   "id": "74c623a6-715d-4602-a945-b80559f82c7b",
   "metadata": {},
   "outputs": [
    {
     "name": "stdout",
     "output_type": "stream",
     "text": [
      "+--------+---------------+\n",
      "|   Hour |   Order Count |\n",
      "|--------+---------------|\n",
      "|      9 |             1 |\n",
      "|     10 |             8 |\n",
      "|     11 |          1231 |\n",
      "|     12 |          2520 |\n",
      "|     13 |          2455 |\n",
      "|     14 |          1472 |\n",
      "|     15 |          1468 |\n",
      "|     16 |          1920 |\n",
      "|     17 |          2336 |\n",
      "|     18 |          2399 |\n",
      "|     19 |          2009 |\n",
      "|     20 |          1642 |\n",
      "|     21 |          1198 |\n",
      "|     22 |           663 |\n",
      "|     23 |            28 |\n",
      "+--------+---------------+\n"
     ]
    },
    {
     "name": "stderr",
     "output_type": "stream",
     "text": [
      "C:\\Users\\babyd\\AppData\\Local\\Temp\\ipykernel_4580\\3787878548.py:15: UserWarning: pandas only supports SQLAlchemy connectable (engine/connection) or database string URI or sqlite3 DBAPI2 connection. Other DBAPI2 objects are not tested. Please consider using SQLAlchemy.\n",
      "  return pd.read_sql(query, conn)\n"
     ]
    }
   ],
   "source": [
    "# Query: Distribution of orders by hour of the day\n",
    "query = \"\"\"\n",
    "SELECT \n",
    "    HOUR(order_time) AS hour, \n",
    "    COUNT(order_id) AS order_count\n",
    "FROM\n",
    "    orders\n",
    "GROUP BY \n",
    "    HOUR(order_time)\n",
    "ORDER BY \n",
    "    hour;\n",
    "\"\"\"\n",
    "\n",
    "orders_by_hour = run_query(query)\n",
    "\n",
    "# Print with tabulate format\n",
    "print(tabulate(orders_by_hour, headers=[\"Hour\", \"Order Count\"], tablefmt=\"psql\", showindex=False))"
   ]
  },
  {
   "cell_type": "raw",
   "id": "e4d02bfd-dfc3-41e7-943d-7e6b381c1956",
   "metadata": {},
   "source": [
    "This query calculates how many orders were placed in each hour of the day, letting you see peak order times (e.g., lunch or dinner rush)."
   ]
  },
  {
   "cell_type": "code",
   "execution_count": 46,
   "id": "a924eeeb-92ac-4c9b-abf7-08bd1c0211f9",
   "metadata": {},
   "outputs": [
    {
     "data": {
      "image/png": "[encoded data removed]",
      "text/plain": [
       "<Figure size 640x480 with 1 Axes>"
      ]
     },
     "metadata": {},
     "output_type": "display_data"
    }
   ],
   "source": [
    "\n",
    "plt.bar(orders_by_hour['hour'], orders_by_hour['order_count'])\n",
    "plt.xlabel(\"Hour of the Day\")\n",
    "plt.ylabel(\"Number of Orders\")\n",
    "plt.title(\"Distribution of Orders by Hour\")\n",
    "plt.xticks(range(0, 24))\n",
    "plt.show()\n"
   ]
  },
  {
   "cell_type": "code",
   "execution_count": 47,
   "id": "bde62aab-e7a6-4d28-90ac-b14990e2f8a6",
   "metadata": {},
   "outputs": [
    {
     "name": "stdout",
     "output_type": "stream",
     "text": [
      "+----------------------+\n",
      "|   avg_pizzas_per_day |\n",
      "|----------------------|\n",
      "|              138.475 |\n",
      "+----------------------+\n"
     ]
    },
    {
     "name": "stderr",
     "output_type": "stream",
     "text": [
      "C:\\Users\\babyd\\AppData\\Local\\Temp\\ipykernel_4580\\3787878548.py:15: UserWarning: pandas only supports SQLAlchemy connectable (engine/connection) or database string URI or sqlite3 DBAPI2 connection. Other DBAPI2 objects are not tested. Please consider using SQLAlchemy.\n",
      "  return pd.read_sql(query, conn)\n"
     ]
    }
   ],
   "source": [
    "\n",
    "# Query to get average pizzas per day\n",
    "query = \"\"\"\n",
    "SELECT \n",
    "    AVG(quantity) AS avg_pizzas_per_day\n",
    "FROM\n",
    "    (\n",
    "        SELECT \n",
    "            orders.order_date, \n",
    "            SUM(orders_details.quantity) AS quantity\n",
    "        FROM\n",
    "            orders\n",
    "        JOIN \n",
    "            orders_details \n",
    "            ON orders.order_id = orders_details.order_id\n",
    "        GROUP BY \n",
    "            orders.order_date\n",
    "    ) AS order_quantity;\n",
    "\"\"\"\n",
    "\n",
    "# Run the query\n",
    "avg_pizzas_per_day = run_query(query)\n",
    "\n",
    "# Print in tabulate format with headings\n",
    "print(tabulate(avg_pizzas_per_day, headers=[\"avg_pizzas_per_day\"], tablefmt=\"psql\", showindex=False))\n",
    "\n"
   ]
  },
  {
   "cell_type": "raw",
   "id": "115a229a-34a8-4bf6-9ed6-3dd688b9c528",
   "metadata": {},
   "source": [
    "First, find how many pizzas were sold on each day. Then, calculate the average of those daily totals to find the average pizzas sold per day."
   ]
  },
  {
   "cell_type": "code",
   "execution_count": 48,
   "id": "cb0e3b1f-3bb7-4f26-b861-e2e5ebd7d138",
   "metadata": {},
   "outputs": [
    {
     "name": "stderr",
     "output_type": "stream",
     "text": [
      "C:\\Users\\babyd\\AppData\\Local\\Temp\\ipykernel_4580\\3787878548.py:15: UserWarning: pandas only supports SQLAlchemy connectable (engine/connection) or database string URI or sqlite3 DBAPI2 connection. Other DBAPI2 objects are not tested. Please consider using SQLAlchemy.\n",
      "  return pd.read_sql(query, conn)\n"
     ]
    },
    {
     "name": "stdout",
     "output_type": "stream",
     "text": [
      "+------------+-----------+-------------+\n",
      "| Category   |   Revenue |   Revenue % |\n",
      "|------------+-----------+-------------|\n",
      "| Classic    |    220053 |       26.91 |\n",
      "| Supreme    |    208197 |       25.46 |\n",
      "| Chicken    |    195920 |       23.96 |\n",
      "| Veggie     |    193690 |       23.68 |\n",
      "+------------+-----------+-------------+\n"
     ]
    }
   ],
   "source": [
    "# Q: Percentage contribution of each pizza type to total revenue\n",
    "query = \"\"\"\n",
    "SELECT \n",
    "    pt.category,\n",
    "    SUM(od.quantity * p.price) AS revenue,\n",
    "    (SUM(od.quantity * p.price) / MAX(total_sales.total)) * 100 AS revenue_percentage\n",
    "FROM \n",
    "    pizza_types AS pt\n",
    "JOIN \n",
    "    pizzas AS p ON pt.pizza_type_id = p.pizza_type_id\n",
    "JOIN \n",
    "    orders_details AS od ON od.pizza_id = p.pizza_id\n",
    "CROSS JOIN (\n",
    "    SELECT SUM(od2.quantity * p2.price) AS total\n",
    "    FROM pizzas AS p2\n",
    "    JOIN orders_details AS od2 ON od2.pizza_id = p2.pizza_id\n",
    ") AS total_sales\n",
    "GROUP BY \n",
    "    pt.category\n",
    "ORDER BY \n",
    "    revenue DESC;\n",
    "\"\"\"\n",
    "\n",
    "revenue_percentage = run_query(query)\n",
    "\n",
    "# Print in table format with headers and 2 decimals for revenue and percentage\n",
    "revenue_percentage['revenue'] = revenue_percentage['revenue'].round(2)\n",
    "revenue_percentage['revenue_percentage'] = revenue_percentage['revenue_percentage'].round(2)\n",
    "\n",
    "print(tabulate(revenue_percentage, headers=[\"Category\", \"Revenue\", \"Revenue %\"], tablefmt=\"psql\", showindex=False))\n"
   ]
  },
  {
   "cell_type": "raw",
   "id": "a590153e-c505-4948-bc23-ef72a3b0add3",
   "metadata": {},
   "source": [
    "SUM(od.quantity * p.price) → Calculates the total revenue for each category.\n",
    "\n",
    "total_sales.total → Finds the total revenue from all pizzas (via a CROSS JOIN subquery).\n",
    "\n",
    "(category revenue / total revenue) * 100 → Finds each category’s revenue percentage.\n",
    "\n",
    "GROUP BY pt.category → Groups results by pizza category (e.g., Classic, Veggie).\n",
    "\n",
    "ORDER BY revenue DESC → Shows the highest earning categories first."
   ]
  },
  {
   "cell_type": "code",
   "execution_count": 49,
   "id": "a734e851-f50f-4359-b5c5-b217137fefcf",
   "metadata": {},
   "outputs": [
    {
     "name": "stderr",
     "output_type": "stream",
     "text": [
      "C:\\Users\\babyd\\AppData\\Local\\Temp\\ipykernel_4580\\3018733028.py:29: UserWarning: pandas only supports SQLAlchemy connectable (engine/connection) or database string URI or sqlite3 DBAPI2 connection. Other DBAPI2 objects are not tested. Please consider using SQLAlchemy.\n",
      "  df_top_pizzas = pd.read_sql(query, conn)\n"
     ]
    },
    {
     "name": "stdout",
     "output_type": "stream",
     "text": [
      "+------------+------------------------------+-----------+\n",
      "| category   | name                         |   revenue |\n",
      "|------------+------------------------------+-----------|\n",
      "| Chicken    | The Thai Chicken Pizza       |   43434.2 |\n",
      "| Chicken    | The Barbecue Chicken Pizza   |   42768   |\n",
      "| Chicken    | The California Chicken Pizza |   41409.5 |\n",
      "| Classic    | The Classic Deluxe Pizza     |   38180.5 |\n",
      "| Classic    | The Hawaiian Pizza           |   32273.2 |\n",
      "| Classic    | The Pepperoni Pizza          |   30161.8 |\n",
      "| Supreme    | The Spicy Italian Pizza      |   34831.2 |\n",
      "| Supreme    | The Italian Supreme Pizza    |   33476.8 |\n",
      "| Supreme    | The Sicilian Pizza           |   30940.5 |\n",
      "| Veggie     | The Four Cheese Pizza        |   32265.7 |\n",
      "| Veggie     | The Mexicana Pizza           |   26780.8 |\n",
      "| Veggie     | The Five Cheese Pizza        |   26066.5 |\n",
      "+------------+------------------------------+-----------+\n"
     ]
    }
   ],
   "source": [
    "# Top 3 most ordered pizza types by revenue for each category\n",
    "query = \"\"\"\n",
    "SELECT category, name, revenue \n",
    "FROM (\n",
    "    SELECT \n",
    "        category, \n",
    "        name, \n",
    "        revenue,\n",
    "        RANK() OVER(PARTITION BY category ORDER BY revenue DESC) AS rn\n",
    "    FROM (\n",
    "        SELECT \n",
    "            pizza_types.category, \n",
    "            pizza_types.name,\n",
    "            SUM(orders_details.quantity * pizzas.price) AS revenue\n",
    "        FROM \n",
    "            pizza_types \n",
    "        JOIN \n",
    "            pizzas ON pizza_types.pizza_type_id = pizzas.pizza_type_id\n",
    "        JOIN \n",
    "            orders_details ON orders_details.pizza_id = pizzas.pizza_id\n",
    "        GROUP BY \n",
    "            pizza_types.category, pizza_types.name\n",
    "    ) AS a\n",
    ") AS b\n",
    "WHERE rn <= 3;\n",
    "\"\"\"\n",
    "\n",
    "# Read into a DataFrame\n",
    "df_top_pizzas = pd.read_sql(query, conn)\n",
    "\n",
    "# Format numbers for readability\n",
    "df_top_pizzas['revenue'] = df_top_pizzas['revenue'].round(2)\n",
    "\n",
    "print(tabulate(df_top_pizzas, headers='keys', tablefmt='psql', showindex=False))"
   ]
  },
  {
   "cell_type": "raw",
   "id": "103862ce-0855-4bb0-85f7-7117ed4d2b2f",
   "metadata": {},
   "source": [
    " For every pizza category (like Classic, Supreme, Veggie), this tells you the top 3 pizzas by money earned."
   ]
  },
  {
   "cell_type": "code",
   "execution_count": 50,
   "id": "81a6967d-8adb-40e5-b86a-573a523ea484",
   "metadata": {},
   "outputs": [],
   "source": [
    "import pandas as pd\n",
    "import numpy as np\n",
    "from sklearn.model_selection import train_test_split, TimeSeriesSplit\n",
    "from sklearn.ensemble import RandomForestRegressor\n",
    "from sklearn.metrics import mean_squared_error\n",
    "import matplotlib.pyplot as plt"
   ]
  },
  {
   "cell_type": "code",
   "execution_count": 51,
   "id": "90c35298-6f3f-4891-ae0b-fe4643897111",
   "metadata": {},
   "outputs": [
    {
     "name": "stdout",
     "output_type": "stream",
     "text": [
      "+--------------+------------------+\n",
      "| Order Date   |   Total Quantity |\n",
      "|--------------+------------------|\n",
      "| 2015-01-01   |              162 |\n",
      "| 2015-01-02   |              165 |\n",
      "| 2015-01-03   |              158 |\n",
      "| 2015-01-04   |              106 |\n",
      "| 2015-01-05   |              125 |\n",
      "| 2015-01-06   |              147 |\n",
      "| 2015-01-07   |              138 |\n",
      "| 2015-01-08   |              173 |\n",
      "| 2015-01-09   |              127 |\n",
      "| 2015-01-10   |              146 |\n",
      "| 2015-01-11   |              116 |\n",
      "| 2015-01-12   |              119 |\n",
      "| 2015-01-13   |              120 |\n",
      "| 2015-01-14   |              150 |\n",
      "| 2015-01-15   |              123 |\n",
      "| 2015-01-16   |              158 |\n",
      "| 2015-01-17   |              125 |\n",
      "| 2015-01-18   |              122 |\n",
      "| 2015-01-19   |              142 |\n",
      "| 2015-01-20   |              143 |\n",
      "| 2015-01-21   |              129 |\n",
      "| 2015-01-22   |              158 |\n",
      "| 2015-01-23   |              152 |\n",
      "| 2015-01-24   |              142 |\n",
      "| 2015-01-25   |              102 |\n",
      "| 2015-01-26   |              113 |\n",
      "| 2015-01-27   |              151 |\n",
      "| 2015-01-28   |              118 |\n",
      "| 2015-01-29   |              119 |\n",
      "| 2015-01-30   |              138 |\n",
      "| 2015-01-31   |              145 |\n",
      "| 2015-02-01   |              191 |\n",
      "| 2015-02-02   |              145 |\n",
      "| 2015-02-03   |              159 |\n",
      "| 2015-02-04   |              138 |\n",
      "| 2015-02-05   |              133 |\n",
      "| 2015-02-06   |              153 |\n",
      "| 2015-02-07   |              136 |\n",
      "| 2015-02-08   |              124 |\n",
      "| 2015-02-09   |              136 |\n",
      "| 2015-02-10   |              124 |\n",
      "| 2015-02-11   |              155 |\n",
      "| 2015-02-12   |              130 |\n",
      "| 2015-02-13   |              163 |\n",
      "| 2015-02-14   |              140 |\n",
      "| 2015-02-15   |              128 |\n",
      "| 2015-02-16   |              119 |\n",
      "| 2015-02-17   |              129 |\n",
      "| 2015-02-18   |              163 |\n",
      "| 2015-02-19   |              123 |\n",
      "| 2015-02-20   |              175 |\n",
      "| 2015-02-21   |              127 |\n",
      "| 2015-02-22   |               97 |\n",
      "| 2015-02-23   |              128 |\n",
      "| 2015-02-24   |              134 |\n",
      "| 2015-02-25   |              144 |\n",
      "| 2015-02-26   |              140 |\n",
      "| 2015-02-27   |              173 |\n",
      "| 2015-02-28   |              154 |\n",
      "| 2015-03-01   |               99 |\n",
      "| 2015-03-02   |              139 |\n",
      "| 2015-03-03   |              137 |\n",
      "| 2015-03-04   |              147 |\n",
      "| 2015-03-05   |              142 |\n",
      "| 2015-03-06   |              152 |\n",
      "| 2015-03-07   |              144 |\n",
      "| 2015-03-08   |              135 |\n",
      "| 2015-03-09   |              138 |\n",
      "| 2015-03-10   |              144 |\n",
      "| 2015-03-11   |              134 |\n",
      "| 2015-03-12   |              119 |\n",
      "| 2015-03-13   |              176 |\n",
      "| 2015-03-14   |              123 |\n",
      "| 2015-03-15   |              131 |\n",
      "| 2015-03-16   |              141 |\n",
      "| 2015-03-17   |              179 |\n",
      "| 2015-03-18   |              123 |\n",
      "| 2015-03-19   |              144 |\n",
      "| 2015-03-20   |              149 |\n",
      "| 2015-03-21   |              136 |\n",
      "| 2015-03-22   |               77 |\n",
      "| 2015-03-23   |              135 |\n",
      "| 2015-03-24   |              130 |\n",
      "| 2015-03-25   |              115 |\n",
      "| 2015-03-26   |              136 |\n",
      "| 2015-03-27   |              167 |\n",
      "| 2015-03-28   |              139 |\n",
      "| 2015-03-29   |              132 |\n",
      "| 2015-03-30   |              137 |\n",
      "| 2015-03-31   |              161 |\n",
      "| 2015-04-01   |              135 |\n",
      "| 2015-04-02   |              150 |\n",
      "| 2015-04-03   |              155 |\n",
      "| 2015-04-04   |              170 |\n",
      "| 2015-04-05   |              117 |\n",
      "| 2015-04-06   |              157 |\n",
      "| 2015-04-07   |              138 |\n",
      "| 2015-04-08   |              136 |\n",
      "| 2015-04-09   |              122 |\n",
      "| 2015-04-10   |              142 |\n",
      "| 2015-04-11   |              153 |\n",
      "| 2015-04-12   |              120 |\n",
      "| 2015-04-13   |              144 |\n",
      "| 2015-04-14   |              146 |\n",
      "| 2015-04-15   |              158 |\n",
      "| 2015-04-16   |              126 |\n",
      "| 2015-04-17   |              161 |\n",
      "| 2015-04-18   |              137 |\n",
      "| 2015-04-19   |               95 |\n",
      "| 2015-04-20   |              151 |\n",
      "| 2015-04-21   |              134 |\n",
      "| 2015-04-22   |              134 |\n",
      "| 2015-04-23   |              144 |\n",
      "| 2015-04-24   |              175 |\n",
      "| 2015-04-25   |              126 |\n",
      "| 2015-04-26   |              111 |\n",
      "| 2015-04-27   |              133 |\n",
      "| 2015-04-28   |              107 |\n",
      "| 2015-04-29   |              111 |\n",
      "| 2015-04-30   |              163 |\n",
      "| 2015-05-01   |              154 |\n",
      "| 2015-05-02   |              152 |\n",
      "| 2015-05-03   |              114 |\n",
      "| 2015-05-04   |              141 |\n",
      "| 2015-05-05   |              107 |\n",
      "| 2015-05-06   |              140 |\n",
      "| 2015-05-07   |              131 |\n",
      "| 2015-05-08   |              181 |\n",
      "| 2015-05-09   |              144 |\n",
      "| 2015-05-10   |              141 |\n",
      "| 2015-05-11   |              144 |\n",
      "| 2015-05-12   |              142 |\n",
      "| 2015-05-13   |              137 |\n",
      "| 2015-05-14   |              164 |\n",
      "| 2015-05-15   |              208 |\n",
      "| 2015-05-16   |              142 |\n",
      "| 2015-05-17   |              109 |\n",
      "| 2015-05-18   |              134 |\n",
      "| 2015-05-19   |              119 |\n",
      "| 2015-05-20   |              141 |\n",
      "| 2015-05-21   |              123 |\n",
      "| 2015-05-22   |              154 |\n",
      "| 2015-05-23   |              148 |\n",
      "| 2015-05-24   |              134 |\n",
      "| 2015-05-25   |              125 |\n",
      "| 2015-05-26   |              115 |\n",
      "| 2015-05-27   |              124 |\n",
      "| 2015-05-28   |              121 |\n",
      "| 2015-05-29   |              181 |\n",
      "| 2015-05-30   |              150 |\n",
      "| 2015-05-31   |              108 |\n",
      "| 2015-06-01   |              184 |\n",
      "| 2015-06-02   |              147 |\n",
      "| 2015-06-03   |              113 |\n",
      "| 2015-06-04   |              141 |\n",
      "| 2015-06-05   |              159 |\n",
      "| 2015-06-06   |              136 |\n",
      "| 2015-06-07   |              117 |\n",
      "| 2015-06-08   |              136 |\n",
      "| 2015-06-09   |              147 |\n",
      "| 2015-06-10   |              124 |\n",
      "| 2015-06-11   |              158 |\n",
      "| 2015-06-12   |              131 |\n",
      "| 2015-06-13   |              153 |\n",
      "| 2015-06-14   |              113 |\n",
      "| 2015-06-15   |              152 |\n",
      "| 2015-06-16   |              116 |\n",
      "| 2015-06-17   |              126 |\n",
      "| 2015-06-18   |              116 |\n",
      "| 2015-06-19   |              167 |\n",
      "| 2015-06-20   |              128 |\n",
      "| 2015-06-21   |              115 |\n",
      "| 2015-06-22   |              140 |\n",
      "| 2015-06-23   |              124 |\n",
      "| 2015-06-24   |              137 |\n",
      "| 2015-06-25   |              148 |\n",
      "| 2015-06-26   |              163 |\n",
      "| 2015-06-27   |              173 |\n",
      "| 2015-06-28   |               95 |\n",
      "| 2015-06-29   |              118 |\n",
      "| 2015-06-30   |              130 |\n",
      "| 2015-07-01   |              137 |\n",
      "| 2015-07-02   |              138 |\n",
      "| 2015-07-03   |              213 |\n",
      "| 2015-07-04   |              234 |\n",
      "| 2015-07-05   |               96 |\n",
      "| 2015-07-06   |              130 |\n",
      "| 2015-07-07   |              142 |\n",
      "| 2015-07-08   |              142 |\n",
      "| 2015-07-09   |              135 |\n",
      "| 2015-07-10   |              148 |\n",
      "| 2015-07-11   |              125 |\n",
      "| 2015-07-12   |              128 |\n",
      "| 2015-07-13   |              124 |\n",
      "| 2015-07-14   |              119 |\n",
      "| 2015-07-15   |              154 |\n",
      "| 2015-07-16   |              146 |\n",
      "| 2015-07-17   |              187 |\n",
      "| 2015-07-18   |              130 |\n",
      "| 2015-07-19   |              121 |\n",
      "| 2015-07-20   |              149 |\n",
      "| 2015-07-21   |              119 |\n",
      "| 2015-07-22   |              137 |\n",
      "| 2015-07-23   |              137 |\n",
      "| 2015-07-24   |              196 |\n",
      "| 2015-07-25   |              135 |\n",
      "| 2015-07-26   |              112 |\n",
      "| 2015-07-27   |              129 |\n",
      "| 2015-07-28   |              132 |\n",
      "| 2015-07-29   |              116 |\n",
      "| 2015-07-30   |              149 |\n",
      "| 2015-07-31   |              132 |\n",
      "| 2015-08-01   |              154 |\n",
      "| 2015-08-02   |              114 |\n",
      "| 2015-08-03   |              117 |\n",
      "| 2015-08-04   |              122 |\n",
      "| 2015-08-05   |              130 |\n",
      "| 2015-08-06   |              132 |\n",
      "| 2015-08-07   |              161 |\n",
      "| 2015-08-08   |              167 |\n",
      "| 2015-08-09   |              126 |\n",
      "| 2015-08-10   |              125 |\n",
      "| 2015-08-11   |              137 |\n",
      "| 2015-08-12   |              144 |\n",
      "| 2015-08-13   |              132 |\n",
      "| 2015-08-14   |              188 |\n",
      "| 2015-08-15   |              140 |\n",
      "| 2015-08-16   |              128 |\n",
      "| 2015-08-17   |              161 |\n",
      "| 2015-08-18   |              128 |\n",
      "| 2015-08-19   |              138 |\n",
      "| 2015-08-20   |              116 |\n",
      "| 2015-08-21   |              163 |\n",
      "| 2015-08-22   |              148 |\n",
      "| 2015-08-23   |              105 |\n",
      "| 2015-08-24   |              106 |\n",
      "| 2015-08-25   |              115 |\n",
      "| 2015-08-26   |              139 |\n",
      "| 2015-08-27   |              128 |\n",
      "| 2015-08-28   |              161 |\n",
      "| 2015-08-29   |              123 |\n",
      "| 2015-08-30   |               94 |\n",
      "| 2015-08-31   |              126 |\n",
      "| 2015-09-01   |              146 |\n",
      "| 2015-09-02   |              111 |\n",
      "| 2015-09-03   |              138 |\n",
      "| 2015-09-04   |              179 |\n",
      "| 2015-09-05   |              153 |\n",
      "| 2015-09-06   |               92 |\n",
      "| 2015-09-07   |              140 |\n",
      "| 2015-09-08   |              133 |\n",
      "| 2015-09-09   |              157 |\n",
      "| 2015-09-10   |              148 |\n",
      "| 2015-09-11   |              167 |\n",
      "| 2015-09-12   |              156 |\n",
      "| 2015-09-13   |              108 |\n",
      "| 2015-09-14   |              129 |\n",
      "| 2015-09-15   |              158 |\n",
      "| 2015-09-16   |              136 |\n",
      "| 2015-09-17   |              138 |\n",
      "| 2015-09-18   |              164 |\n",
      "| 2015-09-19   |              141 |\n",
      "| 2015-09-20   |              108 |\n",
      "| 2015-09-21   |              132 |\n",
      "| 2015-09-22   |              131 |\n",
      "| 2015-09-23   |              133 |\n",
      "| 2015-09-26   |              139 |\n",
      "| 2015-09-27   |              139 |\n",
      "| 2015-09-28   |              121 |\n",
      "| 2015-09-29   |              163 |\n",
      "| 2015-09-30   |              130 |\n",
      "| 2015-10-01   |              194 |\n",
      "| 2015-10-02   |              125 |\n",
      "| 2015-10-03   |              147 |\n",
      "| 2015-10-04   |              128 |\n",
      "| 2015-10-06   |              136 |\n",
      "| 2015-10-07   |              133 |\n",
      "| 2015-10-08   |              119 |\n",
      "| 2015-10-09   |              147 |\n",
      "| 2015-10-10   |              141 |\n",
      "| 2015-10-11   |              118 |\n",
      "| 2015-10-13   |              141 |\n",
      "| 2015-10-14   |              132 |\n",
      "| 2015-10-15   |              262 |\n",
      "| 2015-10-16   |              153 |\n",
      "| 2015-10-17   |              140 |\n",
      "| 2015-10-18   |              105 |\n",
      "| 2015-10-20   |              154 |\n",
      "| 2015-10-21   |              149 |\n",
      "| 2015-10-22   |              145 |\n",
      "| 2015-10-23   |              154 |\n",
      "| 2015-10-24   |              160 |\n",
      "| 2015-10-25   |              114 |\n",
      "| 2015-10-27   |              120 |\n",
      "| 2015-10-28   |              104 |\n",
      "| 2015-10-29   |              131 |\n",
      "| 2015-10-30   |              166 |\n",
      "| 2015-10-31   |              165 |\n",
      "| 2015-11-01   |              124 |\n",
      "| 2015-11-02   |              138 |\n",
      "| 2015-11-03   |              114 |\n",
      "| 2015-11-04   |              121 |\n",
      "| 2015-11-05   |              124 |\n",
      "| 2015-11-06   |              190 |\n",
      "| 2015-11-07   |              156 |\n",
      "| 2015-11-08   |              127 |\n",
      "| 2015-11-09   |              151 |\n",
      "| 2015-11-10   |              126 |\n",
      "| 2015-11-11   |              118 |\n",
      "| 2015-11-12   |              153 |\n",
      "| 2015-11-13   |              141 |\n",
      "| 2015-11-14   |              142 |\n",
      "| 2015-11-15   |              113 |\n",
      "| 2015-11-16   |              136 |\n",
      "| 2015-11-17   |              117 |\n",
      "| 2015-11-18   |              130 |\n",
      "| 2015-11-19   |              162 |\n",
      "| 2015-11-20   |              148 |\n",
      "| 2015-11-21   |              131 |\n",
      "| 2015-11-22   |               84 |\n",
      "| 2015-11-23   |              148 |\n",
      "| 2015-11-24   |              131 |\n",
      "| 2015-11-25   |              144 |\n",
      "| 2015-11-26   |              266 |\n",
      "| 2015-11-27   |              264 |\n",
      "| 2015-11-28   |              118 |\n",
      "| 2015-11-29   |              115 |\n",
      "| 2015-11-30   |              134 |\n",
      "| 2015-12-01   |              131 |\n",
      "| 2015-12-02   |              132 |\n",
      "| 2015-12-03   |              136 |\n",
      "| 2015-12-04   |              176 |\n",
      "| 2015-12-05   |              160 |\n",
      "| 2015-12-06   |              144 |\n",
      "| 2015-12-07   |              150 |\n",
      "| 2015-12-08   |              110 |\n",
      "| 2015-12-09   |              160 |\n",
      "| 2015-12-10   |              118 |\n",
      "| 2015-12-11   |              164 |\n",
      "| 2015-12-12   |              127 |\n",
      "| 2015-12-13   |              130 |\n",
      "| 2015-12-14   |              131 |\n",
      "| 2015-12-15   |              146 |\n",
      "| 2015-12-16   |              133 |\n",
      "| 2015-12-17   |              113 |\n",
      "| 2015-12-18   |              176 |\n",
      "| 2015-12-19   |              139 |\n",
      "| 2015-12-20   |              124 |\n",
      "| 2015-12-21   |              130 |\n",
      "| 2015-12-22   |              114 |\n",
      "| 2015-12-23   |              134 |\n",
      "| 2015-12-24   |              131 |\n",
      "| 2015-12-26   |               95 |\n",
      "| 2015-12-27   |               89 |\n",
      "| 2015-12-28   |              102 |\n",
      "| 2015-12-29   |               80 |\n",
      "| 2015-12-30   |               82 |\n",
      "| 2015-12-31   |              178 |\n",
      "+--------------+------------------+\n"
     ]
    },
    {
     "name": "stderr",
     "output_type": "stream",
     "text": [
      "C:\\Users\\babyd\\AppData\\Local\\Temp\\ipykernel_4580\\3833756986.py:12: UserWarning: pandas only supports SQLAlchemy connectable (engine/connection) or database string URI or sqlite3 DBAPI2 connection. Other DBAPI2 objects are not tested. Please consider using SQLAlchemy.\n",
      "  df_daily = pd.read_sql(query, conn)\n"
     ]
    }
   ],
   "source": [
    "# Fetch daily total pizza quantity\n",
    "query = \"\"\"\n",
    "SELECT \n",
    "    o.order_date,\n",
    "    SUM(od.quantity) AS total_quantity\n",
    "FROM orders o\n",
    "JOIN orders_details od ON o.order_id = od.order_id\n",
    "GROUP BY o.order_date\n",
    "ORDER BY o.order_date;\n",
    "\"\"\"\n",
    "\n",
    "df_daily = pd.read_sql(query, conn)\n",
    "\n",
    "# Pretty print in table format\n",
    "print(tabulate(df_daily, headers=[\"Order Date\", \"Total Quantity\"], tablefmt=\"psql\", showindex=False))"
   ]
  },
  {
   "cell_type": "raw",
   "id": "b0c4a8fc-669b-40bc-a760-3dbc3df52e64",
   "metadata": {},
   "source": [
    "FROM orders o JOIN orders_details od\n",
    "Connects the orders table (which has order dates) with orders_details (which has the quantities of pizzas per order).\n",
    "\n",
    "SUM(od.quantity)\n",
    "Adds up all pizzas sold on the same day (could be from multiple orders).\n",
    "\n",
    "GROUP BY o.order_date\n",
    "Groups results by each date so we get one row per day.\n",
    "\n",
    "ORDER BY o.order_date\n",
    "Shows results sorted by date (earliest to latest)."
   ]
  },
  {
   "cell_type": "code",
   "execution_count": 64,
   "id": "b80fac51-10e5-4d0e-9b5c-2a6d18d1c7b0",
   "metadata": {},
   "outputs": [
    {
     "name": "stderr",
     "output_type": "stream",
     "text": [
      "C:\\Users\\babyd\\AppData\\Local\\Temp\\ipykernel_4580\\1978372991.py:16: UserWarning: pandas only supports SQLAlchemy connectable (engine/connection) or database string URI or sqlite3 DBAPI2 connection. Other DBAPI2 objects are not tested. Please consider using SQLAlchemy.\n",
      "  df_cat = pd.read_sql(query_cat, conn)\n"
     ]
    },
    {
     "ename": "OperationalError",
     "evalue": "MySQL Connection not available.",
     "output_type": "error",
     "traceback": [
      "\u001b[1;31m---------------------------------------------------------------------------\u001b[0m",
      "\u001b[1;31mOperationalError\u001b[0m                          Traceback (most recent call last)",
      "Cell \u001b[1;32mIn[64], line 16\u001b[0m\n\u001b[0;32m      1\u001b[0m \u001b[38;5;66;03m#Fetch daily sales by pizza category (optional but useful)\u001b[39;00m\n\u001b[0;32m      3\u001b[0m query_cat \u001b[38;5;241m=\u001b[39m \u001b[38;5;124m\"\"\"\u001b[39m\n\u001b[0;32m      4\u001b[0m \u001b[38;5;124mSELECT\u001b[39m\n\u001b[0;32m      5\u001b[0m \u001b[38;5;124m    o.order_date,\u001b[39m\n\u001b[1;32m   (...)\u001b[0m\n\u001b[0;32m     13\u001b[0m \u001b[38;5;124mORDER BY o.order_date;\u001b[39m\n\u001b[0;32m     14\u001b[0m \u001b[38;5;124m\"\"\"\u001b[39m\n\u001b[1;32m---> 16\u001b[0m df_cat \u001b[38;5;241m=\u001b[39m \u001b[43mpd\u001b[49m\u001b[38;5;241;43m.\u001b[39;49m\u001b[43mread_sql\u001b[49m\u001b[43m(\u001b[49m\u001b[43mquery_cat\u001b[49m\u001b[43m,\u001b[49m\u001b[43m \u001b[49m\u001b[43mconn\u001b[49m\u001b[43m)\u001b[49m\n\u001b[0;32m     18\u001b[0m \u001b[38;5;66;03m# Pivot category sales so each category is a column\u001b[39;00m\n\u001b[0;32m     19\u001b[0m df_cat_pivot \u001b[38;5;241m=\u001b[39m df_cat\u001b[38;5;241m.\u001b[39mpivot(index\u001b[38;5;241m=\u001b[39m\u001b[38;5;124m'\u001b[39m\u001b[38;5;124morder_date\u001b[39m\u001b[38;5;124m'\u001b[39m, columns\u001b[38;5;241m=\u001b[39m\u001b[38;5;124m'\u001b[39m\u001b[38;5;124mcategory\u001b[39m\u001b[38;5;124m'\u001b[39m, values\u001b[38;5;241m=\u001b[39m\u001b[38;5;124m'\u001b[39m\u001b[38;5;124mquantity\u001b[39m\u001b[38;5;124m'\u001b[39m)\u001b[38;5;241m.\u001b[39mfillna(\u001b[38;5;241m0\u001b[39m)\u001b[38;5;241m.\u001b[39mreset_index()\n",
      "File \u001b[1;32m~\\AppData\\Local\\Programs\\Python\\Python313\\Lib\\site-packages\\pandas\\io\\sql.py:706\u001b[0m, in \u001b[0;36mread_sql\u001b[1;34m(sql, con, index_col, coerce_float, params, parse_dates, columns, chunksize, dtype_backend, dtype)\u001b[0m\n\u001b[0;32m    704\u001b[0m \u001b[38;5;28;01mwith\u001b[39;00m pandasSQL_builder(con) \u001b[38;5;28;01mas\u001b[39;00m pandas_sql:\n\u001b[0;32m    705\u001b[0m     \u001b[38;5;28;01mif\u001b[39;00m \u001b[38;5;28misinstance\u001b[39m(pandas_sql, SQLiteDatabase):\n\u001b[1;32m--> 706\u001b[0m         \u001b[38;5;28;01mreturn\u001b[39;00m \u001b[43mpandas_sql\u001b[49m\u001b[38;5;241;43m.\u001b[39;49m\u001b[43mread_query\u001b[49m\u001b[43m(\u001b[49m\n\u001b[0;32m    707\u001b[0m \u001b[43m            \u001b[49m\u001b[43msql\u001b[49m\u001b[43m,\u001b[49m\n\u001b[0;32m    708\u001b[0m \u001b[43m            \u001b[49m\u001b[43mindex_col\u001b[49m\u001b[38;5;241;43m=\u001b[39;49m\u001b[43mindex_col\u001b[49m\u001b[43m,\u001b[49m\n\u001b[0;32m    709\u001b[0m \u001b[43m            \u001b[49m\u001b[43mparams\u001b[49m\u001b[38;5;241;43m=\u001b[39;49m\u001b[43mparams\u001b[49m\u001b[43m,\u001b[49m\n\u001b[0;32m    710\u001b[0m \u001b[43m            \u001b[49m\u001b[43mcoerce_float\u001b[49m\u001b[38;5;241;43m=\u001b[39;49m\u001b[43mcoerce_float\u001b[49m\u001b[43m,\u001b[49m\n\u001b[0;32m    711\u001b[0m \u001b[43m            \u001b[49m\u001b[43mparse_dates\u001b[49m\u001b[38;5;241;43m=\u001b[39;49m\u001b[43mparse_dates\u001b[49m\u001b[43m,\u001b[49m\n\u001b[0;32m    712\u001b[0m \u001b[43m            \u001b[49m\u001b[43mchunksize\u001b[49m\u001b[38;5;241;43m=\u001b[39;49m\u001b[43mchunksize\u001b[49m\u001b[43m,\u001b[49m\n\u001b[0;32m    713\u001b[0m \u001b[43m            \u001b[49m\u001b[43mdtype_backend\u001b[49m\u001b[38;5;241;43m=\u001b[39;49m\u001b[43mdtype_backend\u001b[49m\u001b[43m,\u001b[49m\n\u001b[0;32m    714\u001b[0m \u001b[43m            \u001b[49m\u001b[43mdtype\u001b[49m\u001b[38;5;241;43m=\u001b[39;49m\u001b[43mdtype\u001b[49m\u001b[43m,\u001b[49m\n\u001b[0;32m    715\u001b[0m \u001b[43m        \u001b[49m\u001b[43m)\u001b[49m\n\u001b[0;32m    717\u001b[0m     \u001b[38;5;28;01mtry\u001b[39;00m:\n\u001b[0;32m    718\u001b[0m         _is_table_name \u001b[38;5;241m=\u001b[39m pandas_sql\u001b[38;5;241m.\u001b[39mhas_table(sql)\n",
      "File \u001b[1;32m~\\AppData\\Local\\Programs\\Python\\Python313\\Lib\\site-packages\\pandas\\io\\sql.py:2738\u001b[0m, in \u001b[0;36mSQLiteDatabase.read_query\u001b[1;34m(self, sql, index_col, coerce_float, parse_dates, params, chunksize, dtype, dtype_backend)\u001b[0m\n\u001b[0;32m   2727\u001b[0m \u001b[38;5;28;01mdef\u001b[39;00m \u001b[38;5;21mread_query\u001b[39m(\n\u001b[0;32m   2728\u001b[0m     \u001b[38;5;28mself\u001b[39m,\n\u001b[0;32m   2729\u001b[0m     sql,\n\u001b[1;32m   (...)\u001b[0m\n\u001b[0;32m   2736\u001b[0m     dtype_backend: DtypeBackend \u001b[38;5;241m|\u001b[39m Literal[\u001b[38;5;124m\"\u001b[39m\u001b[38;5;124mnumpy\u001b[39m\u001b[38;5;124m\"\u001b[39m] \u001b[38;5;241m=\u001b[39m \u001b[38;5;124m\"\u001b[39m\u001b[38;5;124mnumpy\u001b[39m\u001b[38;5;124m\"\u001b[39m,\n\u001b[0;32m   2737\u001b[0m ) \u001b[38;5;241m-\u001b[39m\u001b[38;5;241m>\u001b[39m DataFrame \u001b[38;5;241m|\u001b[39m Iterator[DataFrame]:\n\u001b[1;32m-> 2738\u001b[0m     cursor \u001b[38;5;241m=\u001b[39m \u001b[38;5;28;43mself\u001b[39;49m\u001b[38;5;241;43m.\u001b[39;49m\u001b[43mexecute\u001b[49m\u001b[43m(\u001b[49m\u001b[43msql\u001b[49m\u001b[43m,\u001b[49m\u001b[43m \u001b[49m\u001b[43mparams\u001b[49m\u001b[43m)\u001b[49m\n\u001b[0;32m   2739\u001b[0m     columns \u001b[38;5;241m=\u001b[39m [col_desc[\u001b[38;5;241m0\u001b[39m] \u001b[38;5;28;01mfor\u001b[39;00m col_desc \u001b[38;5;129;01min\u001b[39;00m cursor\u001b[38;5;241m.\u001b[39mdescription]\n\u001b[0;32m   2741\u001b[0m     \u001b[38;5;28;01mif\u001b[39;00m chunksize \u001b[38;5;129;01mis\u001b[39;00m \u001b[38;5;129;01mnot\u001b[39;00m \u001b[38;5;28;01mNone\u001b[39;00m:\n",
      "File \u001b[1;32m~\\AppData\\Local\\Programs\\Python\\Python313\\Lib\\site-packages\\pandas\\io\\sql.py:2672\u001b[0m, in \u001b[0;36mSQLiteDatabase.execute\u001b[1;34m(self, sql, params)\u001b[0m\n\u001b[0;32m   2670\u001b[0m     \u001b[38;5;28;01mraise\u001b[39;00m \u001b[38;5;167;01mTypeError\u001b[39;00m(\u001b[38;5;124m\"\u001b[39m\u001b[38;5;124mQuery must be a string unless using sqlalchemy.\u001b[39m\u001b[38;5;124m\"\u001b[39m)\n\u001b[0;32m   2671\u001b[0m args \u001b[38;5;241m=\u001b[39m [] \u001b[38;5;28;01mif\u001b[39;00m params \u001b[38;5;129;01mis\u001b[39;00m \u001b[38;5;28;01mNone\u001b[39;00m \u001b[38;5;28;01melse\u001b[39;00m [params]\n\u001b[1;32m-> 2672\u001b[0m cur \u001b[38;5;241m=\u001b[39m \u001b[38;5;28;43mself\u001b[39;49m\u001b[38;5;241;43m.\u001b[39;49m\u001b[43mcon\u001b[49m\u001b[38;5;241;43m.\u001b[39;49m\u001b[43mcursor\u001b[49m\u001b[43m(\u001b[49m\u001b[43m)\u001b[49m\n\u001b[0;32m   2673\u001b[0m \u001b[38;5;28;01mtry\u001b[39;00m:\n\u001b[0;32m   2674\u001b[0m     cur\u001b[38;5;241m.\u001b[39mexecute(sql, \u001b[38;5;241m*\u001b[39margs)\n",
      "File \u001b[1;32m~\\AppData\\Local\\Programs\\Python\\Python313\\Lib\\site-packages\\mysql\\connector\\connection_cext.py:841\u001b[0m, in \u001b[0;36mCMySQLConnection.cursor\u001b[1;34m(self, buffered, raw, prepared, cursor_class, dictionary, read_timeout, write_timeout)\u001b[0m\n\u001b[0;32m    839\u001b[0m \u001b[38;5;28mself\u001b[39m\u001b[38;5;241m.\u001b[39mhandle_unread_result(prepared)\n\u001b[0;32m    840\u001b[0m \u001b[38;5;28;01mif\u001b[39;00m \u001b[38;5;129;01mnot\u001b[39;00m \u001b[38;5;28mself\u001b[39m\u001b[38;5;241m.\u001b[39mis_connected():\n\u001b[1;32m--> 841\u001b[0m     \u001b[38;5;28;01mraise\u001b[39;00m OperationalError(\u001b[38;5;124m\"\u001b[39m\u001b[38;5;124mMySQL Connection not available.\u001b[39m\u001b[38;5;124m\"\u001b[39m)\n\u001b[0;32m    842\u001b[0m \u001b[38;5;28;01mif\u001b[39;00m read_timeout \u001b[38;5;129;01mor\u001b[39;00m write_timeout:\n\u001b[0;32m    843\u001b[0m     warnings\u001b[38;5;241m.\u001b[39mwarn(\n\u001b[0;32m    844\u001b[0m \u001b[38;5;250m        \u001b[39m\u001b[38;5;124;03m\"\"\"The use of read_timeout after the connection has been established is unsupported\u001b[39;00m\n\u001b[0;32m    845\u001b[0m \u001b[38;5;124;03m        in the C-Extension\"\"\"\u001b[39;00m,\n\u001b[0;32m    846\u001b[0m         category\u001b[38;5;241m=\u001b[39m\u001b[38;5;167;01mWarning\u001b[39;00m,\n\u001b[0;32m    847\u001b[0m     )\n",
      "\u001b[1;31mOperationalError\u001b[0m: MySQL Connection not available."
     ]
    }
   ],
   "source": [
    "#Fetch daily sales by pizza category (optional but useful)\n",
    "\n",
    "query_cat = \"\"\"\n",
    "SELECT\n",
    "    o.order_date,\n",
    "    pt.category,\n",
    "    SUM(od.quantity) AS quantity\n",
    "FROM orders o\n",
    "JOIN orders_details od ON o.order_id = od.order_id\n",
    "JOIN pizzas p ON od.pizza_id = p.pizza_id\n",
    "JOIN pizza_types pt ON p.pizza_type_id = pt.pizza_type_id\n",
    "GROUP BY o.order_date, pt.category\n",
    "ORDER BY o.order_date;\n",
    "\"\"\"\n",
    "\n",
    "df_cat = pd.read_sql(query_cat, conn)\n",
    "\n",
    "# Pivot category sales so each category is a column\n",
    "df_cat_pivot = df_cat.pivot(index='order_date', columns='category', values='quantity').fillna(0).reset_index()\n",
    "print(df_cat_pivot.head())"
   ]
  },
  {
   "cell_type": "raw",
   "id": "6c341f45-a563-4e86-a064-5b838d319bc4",
   "metadata": {},
   "source": [
    "Joins\n",
    "orders (o) → has order dates.\n",
    "orders_details (od) → has pizza quantities per order.\n",
    "pizzas (p) → links each pizza to its type.\n",
    "pizza_types (pt) → tells us each pizza’s category (e.g., \"Classic\", \"Supreme\").\n",
    "SUM(od.quantity)\n",
    "Calculates how many pizzas of each category were sold on each date.\n",
    "GROUP BY o.order_date, pt.category\n",
    "Groups results by both date and category (so you get one row per category per day).\n",
    "ORDER BY o.order_date\n",
    "Shows dates in order from earliest to latest.\n",
    "Pivot\n",
    "Converts the category column into separate columns, with dates as rows.\n",
    "Missing values are filled with 0 (meaning no pizzas sold for that category on that day)."
   ]
  },
  {
   "cell_type": "code",
   "execution_count": 53,
   "id": "6ea99562-b26c-4c96-8741-2308bfdbdff9",
   "metadata": {},
   "outputs": [
    {
     "name": "stdout",
     "output_type": "stream",
     "text": [
      "   order_date  total_quantity  Chicken  Classic  Supreme  Veggie  day_of_week  \\\n",
      "6  2015-01-07           138.0     28.0     45.0     33.0    32.0            2   \n",
      "7  2015-01-08           173.0     31.0     47.0     46.0    49.0            3   \n",
      "8  2015-01-09           127.0     21.0     40.0     34.0    32.0            4   \n",
      "9  2015-01-10           146.0     27.0     37.0     40.0    42.0            5   \n",
      "10 2015-01-11           116.0     22.0     31.0     37.0    26.0            6   \n",
      "\n",
      "    month  is_weekend  lag_1   rolling_7  \n",
      "6       1           0  147.0  143.000000  \n",
      "7       1           0  138.0  144.571429  \n",
      "8       1           0  173.0  139.142857  \n",
      "9       1           1  127.0  137.428571  \n",
      "10      1           1  146.0  138.857143  \n"
     ]
    }
   ],
   "source": [
    "#Merge total quantity with category sales and create features\n",
    "\n",
    "# Merge\n",
    "df = pd.merge(df_daily, df_cat_pivot, on='order_date', how='left')\n",
    "\n",
    "# Convert order_date to datetime\n",
    "df['order_date'] = pd.to_datetime(df['order_date'])\n",
    "\n",
    "# Sort by date\n",
    "df = df.sort_values('order_date')\n",
    "\n",
    "# Date-based features\n",
    "df['day_of_week'] = df['order_date'].dt.dayofweek\n",
    "df['month'] = df['order_date'].dt.month\n",
    "df['is_weekend'] = df['day_of_week'].isin([5,6]).astype(int)\n",
    "\n",
    "# Lag features (previous day sales)\n",
    "df['lag_1'] = df['total_quantity'].shift(1)\n",
    "\n",
    "# Rolling mean (7 days)\n",
    "df['rolling_7'] = df['total_quantity'].rolling(window=7).mean()\n",
    "\n",
    "# Drop rows with NaNs due to lag/rolling\n",
    "df = df.dropna()\n",
    "\n",
    "print(df.head())"
   ]
  },
  {
   "cell_type": "raw",
   "id": "9e302d05-bfe9-4d0c-a0aa-8dbdb56a60b4",
   "metadata": {},
   "source": [
    "1. Merging total sales with category-wise sales.\n",
    "\n",
    "2. Formatting and sorting dates.\n",
    "\n",
    "3. Adding time-based features:\n",
    "\n",
    "    * Day of week, month, weekend flag.\n",
    "4. Adding historical features:\n",
    "Yesterday’s sales (lag_1).\n",
    "7-day rolling average (rolling_7).\n",
    "\n",
    "5. Cleaning: Removing rows with missing values from lag/rolling calculations."
   ]
  },
  {
   "cell_type": "code",
   "execution_count": 54,
   "id": "2a0cea30-49c0-4d5a-8d4d-da402aaa461c",
   "metadata": {},
   "outputs": [],
   "source": [
    "\n",
    "#Prepare features and target\n",
    "\n",
    "feature_cols = ['day_of_week', 'month', 'is_weekend', 'lag_1', 'rolling_7'] + list(df_cat_pivot.columns[1:])\n",
    "X = df[feature_cols]\n",
    "y = df['total_quantity']"
   ]
  },
  {
   "cell_type": "raw",
   "id": "eddf133d-bcd5-43d9-b08b-f9db38064b4b",
   "metadata": {},
   "source": [
    "feature_cols → A list of column names to be used as inputs for prediction.\n",
    "day_of_week, month, is_weekend → Date/time features.\n",
    "lag_1 → Sales from the previous day.\n",
    "rolling_7 → 7-day average sales.\n",
    "list(df_cat_pivot.columns[1:]) → Category-wise daily sales (one column per category).\n",
    "\n",
    "X → The feature matrix containing only the columns from feature_cols.\n",
    "\n",
    "y → The target variable (what we want to predict) — here it’s total_quantity, meaning total pizzas sold that day.\n",
    "\n",
    "In short →\n",
    "X = predictors, y = sales you want to predict."
   ]
  },
  {
   "cell_type": "code",
   "execution_count": 55,
   "id": "c26fff8c-f19a-4dbe-a955-8ca74439823c",
   "metadata": {},
   "outputs": [
    {
     "name": "stdout",
     "output_type": "stream",
     "text": [
      "Fold 1 RMSE: 7.44\n",
      "Fold 2 RMSE: 9.32\n",
      "Fold 3 RMSE: 10.72\n"
     ]
    }
   ],
   "source": [
    "tscv = TimeSeriesSplit(n_splits=3)\n",
    "\n",
    "for fold, (train_idx, test_idx) in enumerate(tscv.split(X)):\n",
    "    X_train, X_test = X.iloc[train_idx], X.iloc[test_idx]\n",
    "    y_train, y_test = y.iloc[train_idx], y.iloc[test_idx]\n",
    "    \n",
    "    model = RandomForestRegressor(n_estimators=100, random_state=42)\n",
    "    model.fit(X_train, y_train)\n",
    "    \n",
    "    preds = model.predict(X_test)\n",
    "    rmse = np.sqrt(mean_squared_error(y_test, preds))\n",
    "    \n",
    "    print(f\"Fold {fold+1} RMSE: {rmse:.2f}\")\n"
   ]
  },
  {
   "cell_type": "raw",
   "id": "605c747e-7640-4687-8970-4a268a653ef4",
   "metadata": {},
   "source": [
    "This is time-series cross-validation where the model learns from earlier days to predict later days, and you see how well it does in each fold."
   ]
  },
  {
   "cell_type": "code",
   "execution_count": 56,
   "id": "fed550fa-be5c-420e-9ac3-b88613574f24",
   "metadata": {},
   "outputs": [
    {
     "data": {
      "image/png": "[encoded data removed]",
      "text/plain": [
       "<Figure size 1000x500 with 1 Axes>"
      ]
     },
     "metadata": {},
     "output_type": "display_data"
    }
   ],
   "source": [
    "#Plot actual vs predicted for last fold\n",
    "\n",
    "plt.figure(figsize=(10,5))\n",
    "plt.plot(y_test.index, y_test, label='Actual')\n",
    "plt.plot(y_test.index, preds, label='Predicted')\n",
    "plt.xlabel(\"Date Index\")\n",
    "plt.ylabel(\"Total Quantity\")\n",
    "plt.title(\"Actual vs Predicted Daily Pizza Sales\")\n",
    "plt.legend()\n",
    "plt.show()"
   ]
  },
  {
   "cell_type": "raw",
   "id": "e86e5944-096c-4ed7-9df0-a1195e4caa55",
   "metadata": {},
   "source": [
    "This plot lets you visually check how close your model’s predictions are to reality.\n",
    "If the Predicted line overlaps with the Actual line, the model is doing well; if not, you’ll spot where it’s off."
   ]
  },
  {
   "cell_type": "code",
   "execution_count": 57,
   "id": "e9c97f32-d1ea-42a8-ab6a-d94a77561a8b",
   "metadata": {},
   "outputs": [
    {
     "name": "stderr",
     "output_type": "stream",
     "text": [
      "C:\\Users\\babyd\\AppData\\Local\\Temp\\ipykernel_4580\\3140283888.py:28: UserWarning: pandas only supports SQLAlchemy connectable (engine/connection) or database string URI or sqlite3 DBAPI2 connection. Other DBAPI2 objects are not tested. Please consider using SQLAlchemy.\n",
      "  popular_pizzas = pd.read_sql(query_popular, conn)\n",
      "C:\\Users\\babyd\\AppData\\Local\\Temp\\ipykernel_4580\\3140283888.py:32: UserWarning: pandas only supports SQLAlchemy connectable (engine/connection) or database string URI or sqlite3 DBAPI2 connection. Other DBAPI2 objects are not tested. Please consider using SQLAlchemy.\n",
      "  pizza_df = pd.read_sql(query_pizzas, conn)\n"
     ]
    }
   ],
   "source": [
    "import tkinter as tk\n",
    "from tkinter import ttk\n",
    "import mysql.connector\n",
    "import pandas as pd\n",
    "from sklearn.feature_extraction.text import TfidfVectorizer\n",
    "from sklearn.metrics.pairwise import linear_kernel\n",
    "\n",
    "# Connect to your database (update credentials)\n",
    "conn = mysql.connector.connect(\n",
    "    host=\"localhost\",\n",
    "    user=\"root\",\n",
    "    password=\"123456\",\n",
    "    database=\"pizzahut\"\n",
    ")\n",
    "\n",
    "# Fetch popular pizzas\n",
    "query_popular = \"\"\"\n",
    "SELECT\n",
    "    pt.name,\n",
    "    SUM(od.quantity) AS total_quantity\n",
    "FROM orders_details od\n",
    "JOIN pizzas p ON od.pizza_id = p.pizza_id\n",
    "JOIN pizza_types pt ON p.pizza_type_id = pt.pizza_type_id\n",
    "GROUP BY pt.name\n",
    "ORDER BY total_quantity DESC\n",
    "LIMIT 5;\n",
    "\"\"\"\n",
    "popular_pizzas = pd.read_sql(query_popular, conn)\n",
    "\n",
    "# Fetch pizza details for content-based recommendations\n",
    "query_pizzas = \"SELECT pizza_type_id, name, category, ingredients FROM pizza_types;\"\n",
    "pizza_df = pd.read_sql(query_pizzas, conn)\n",
    "\n",
    "conn.close()\n",
    "\n",
    "# Prepare TF-IDF matrix for similarity\n",
    "pizza_df['features'] = pizza_df['category'] + \" \" + pizza_df['ingredients']\n",
    "tfidf = TfidfVectorizer(stop_words='english')\n",
    "tfidf_matrix = tfidf.fit_transform(pizza_df['features'])\n",
    "cosine_sim = linear_kernel(tfidf_matrix, tfidf_matrix)\n",
    "\n",
    "def get_similar_pizzas(pizza_name, top_n=5):\n",
    "    pizza_name = pizza_name.strip().lower()  # normalize input\n",
    "    pizza_df['name_lower'] = pizza_df['name'].str.strip().str.lower()  # normalize df names\n",
    "\n",
    "    if pizza_name not in pizza_df['name_lower'].values:\n",
    "        return []\n",
    "    idx = pizza_df.index[pizza_df['name_lower'] == pizza_name][0]\n",
    "    sim_scores = list(enumerate(cosine_sim[idx]))\n",
    "    sim_scores = sorted(sim_scores, key=lambda x: x[1], reverse=True)\n",
    "    sim_scores = sim_scores[1:top_n+1]  # exclude itself\n",
    "    similar_pizzas = pizza_df['name'].iloc[[i[0] for i in sim_scores]]\n",
    "    return similar_pizzas.tolist()\n",
    "\n",
    "# Tkinter UI\n",
    "root = tk.Tk()\n",
    "root.title(\"Pizza Recommendation System\")\n",
    "root.geometry(\"700x600\")\n",
    "root.configure(bg=\"#FEEBE7\")  # light gray background\n",
    "\n",
    "# Popular pizzas label and list\n",
    "tk.Label(root, text=\"Top 5 Popular Pizzas:\", font=(\"Arial\", 16, \"bold\"), fg=\"red\", bg=\"white\").pack(pady=10)\n",
    "popular_listbox = tk.Listbox(root, height=6,width=25 ,font=(\"Arial\", 12))\n",
    "for pizza in popular_pizzas['name']:\n",
    "    popular_listbox.insert(tk.END, pizza)\n",
    "popular_listbox.pack(pady=5)\n",
    "\n",
    "# Dropdown to select pizza\n",
    "tk.Label(root, text=\"Select a Pizza to get Similar Recommendations:\", font=(\"Arial\", 14, \"bold\"), fg=\"red\", bg=\"white\").pack(pady=15)\n",
    "\n",
    "pizza_names = pizza_df['name'].tolist()\n",
    "selected_pizza = tk.StringVar()\n",
    "dropdown = ttk.Combobox(root, textvariable=selected_pizza, values=pizza_names, font=(\"Arial\", 12), width=25)\n",
    "dropdown.pack(pady=5)\n",
    "dropdown.current(0)  # Set first pizza as default\n",
    "\n",
    "# Recommendation result label\n",
    "result_label = tk.Label(root, text=\"Similar pizzas will appear here.\", font=(\"Arial\", 14), fg=\"red\", bg=\"white\", justify=\"left\")\n",
    "result_label.pack(pady=20)\n",
    "\n",
    "# Button callback\n",
    "def show_recommendations():\n",
    "    pizza = selected_pizza.get()\n",
    "    pizza = pizza.strip()\n",
    "    print(f\"Selected pizza: '{pizza}'\")  # debug print\n",
    "    if pizza == \"\":\n",
    "        result_label.config(text=\"Please select a pizza.\")\n",
    "        return\n",
    "    recs = get_similar_pizzas(pizza)\n",
    "    if not recs:\n",
    "        result_label.config(text=f\"No recommendations found for '{pizza}'.\")\n",
    "    else:\n",
    "        rec_text = \"Similar pizzas:\\n\" + \"\\n\".join(recs)\n",
    "        result_label.config(text=rec_text)\n",
    "\n",
    "# Button with red background and white text\n",
    "rec_button = tk.Button(root, text=\"Get Recommendations\", command=show_recommendations,\n",
    "                       bg=\"red\", fg=\"white\", font=(\"Arial\", 25, \"bold\"), activebackground=\"#b22222\", activeforeground=\"white\")\n",
    "rec_button.pack(pady=10)\n",
    "\n",
    "root.mainloop()\n"
   ]
  },
  {
   "cell_type": "markdown",
   "id": "295ba72f-01d6-485e-af74-1256c61eaffe",
   "metadata": {},
   "source": [
    "# The top 5 pizzas are ranked purely on historical sales quantity (popularity)\n",
    "# Recommendations are based on text similarity of category + ingredients, not on sales or ratings."
   ]
  },
  {
   "cell_type": "code",
   "execution_count": 62,
   "id": "e69561f3-243c-425f-9ec5-71037d4eca2b",
   "metadata": {},
   "outputs": [
    {
     "name": "stdout",
     "output_type": "stream",
     "text": [
      "git version 2.50.1.windows.1\n"
     ]
    }
   ],
   "source": [
    "!git --version\n"
   ]
  },
  {
   "cell_type": "code",
   "execution_count": 88,
   "id": "19e6038c-1a76-4774-9af2-7c3443ca1da7",
   "metadata": {},
   "outputs": [
    {
     "name": "stdout",
     "output_type": "stream",
     "text": [
      "Reinitialized existing Git repository in C:/Users/babyd/OneDrive/Desktop/Nice project/.git/\n"
     ]
    }
   ],
   "source": [
    "!git init\n"
   ]
  },
  {
   "cell_type": "code",
   "execution_count": 89,
   "id": "ea981f00-c416-44c0-8240-61fe7926e4eb",
   "metadata": {},
   "outputs": [
    {
     "name": "stdout",
     "output_type": "stream",
     "text": [
      "C:\\Users\\babyd\\OneDrive\\Desktop\\Nice project\n"
     ]
    }
   ],
   "source": [
    "cd \"C:\\Users\\babyd\\OneDrive\\Desktop\\Nice project\"\n"
   ]
  },
  {
   "cell_type": "code",
   "execution_count": 91,
   "id": "b5654bfb-bb2b-47f2-a9dc-6997e33055cc",
   "metadata": {},
   "outputs": [],
   "source": [
    "!git remote remove origin\n"
   ]
  },
  {
   "cell_type": "code",
   "execution_count": 92,
   "id": "7d9953bd-30ec-4b6b-a1ef-c383752c6ffd",
   "metadata": {},
   "outputs": [],
   "source": [
    "!git remote add origin https://github.com/99-chetna/SQL-Analysis.git\n"
   ]
  },
  {
   "cell_type": "code",
   "execution_count": 93,
   "id": "6cbc8cc7-79ce-42cc-b2e5-b82d8c66af65",
   "metadata": {},
   "outputs": [
    {
     "name": "stdout",
     "output_type": "stream",
     "text": [
      "branch 'main' set up to track 'origin/main'.\n"
     ]
    },
    {
     "name": "stderr",
     "output_type": "stream",
     "text": [
      "To https://github.com/99-chetna/SQL-Analysis.git\n",
      " * [new branch]      main -> main\n"
     ]
    }
   ],
   "source": [
    "!git branch -M main\n",
    "!git push -u origin main\n"
   ]
  },
  {
   "cell_type": "code",
   "execution_count": 94,
   "id": "25db7adf-021f-4aee-a01d-a927ce8fd011",
   "metadata": {},
   "outputs": [
    {
     "name": "stdout",
     "output_type": "stream",
     "text": [
      "On branch main\n",
      "Your branch is up to date with 'origin/main'.\n",
      "\n",
      "nothing to commit, working tree clean\n"
     ]
    },
    {
     "name": "stderr",
     "output_type": "stream",
     "text": [
      "Everything up-to-date\n"
     ]
    }
   ],
   "source": [
    "!git add .\n",
    "!git commit -m \"update description of changes\"\n",
    "!git push\n"
   ]
  },
  {
   "cell_type": "code",
   "execution_count": null,
   "id": "237d2dc8-ac8d-482b-ac32-b27e1c16d64f",
   "metadata": {},
   "outputs": [],
   "source": []
  }
 ],
 "metadata": {
  "kernelspec": {
   "display_name": "Python 3 (ipykernel)",
   "language": "python",
   "name": "python3"
  },
  "language_info": {
   "codemirror_mode": {
    "name": "ipython",
    "version": 3
   },
   "file_extension": ".py",
   "mimetype": "text/x-python",
   "name": "python",
   "nbconvert_exporter": "python",
   "pygments_lexer": "ipython3",
   "version": "3.13.0"
  }
 },
 "nbformat": 4,
 "nbformat_minor": 5
}
