{
 "cells": [
  {
   "cell_type": "code",
   "execution_count": 1,
   "id": "49df84d4-dab9-4db9-b5a4-7e52d218f408",
   "metadata": {},
   "outputs": [],
   "source": [
    "import mysql.connector\n",
    "import pandas as pd\n",
    "\n",
    "# Connect to your MySQL database\n",
    "conn = mysql.connector.connect(\n",
    "    host=\"localhost\",     \n",
    "    user=\"root\",           \n",
    "    password=\"123456\",\n",
    "    database=\"pizzahut\" \n",
    ")\n",
    "\n",
    "# Function to run queries and get DataFrame\n",
    "def run_query(query):\n",
    "    return pd.read_sql(query, conn)\n"
   ]
  },
  {
   "cell_type": "code",
   "execution_count": 55,
   "id": "cfcbbfb4-2b0c-452d-bfff-4d75c70b12de",
   "metadata": {},
   "outputs": [
    {
     "name": "stdout",
     "output_type": "stream",
     "text": [
      "+----------------+\n",
      "|   Total Orders |\n",
      "|----------------|\n",
      "|          21350 |\n",
      "+----------------+\n"
     ]
    },
    {
     "name": "stderr",
     "output_type": "stream",
     "text": [
      "C:\\Users\\babyd\\AppData\\Local\\Temp\\ipykernel_11900\\241142180.py:14: UserWarning: pandas only supports SQLAlchemy connectable (engine/connection) or database string URI or sqlite3 DBAPI2 connection. Other DBAPI2 objects are not tested. Please consider using SQLAlchemy.\n",
      "  return pd.read_sql(query, conn)\n"
     ]
    }
   ],
   "source": [
    "\n",
    "# Q: Total number of orders\n",
    "query = \"\"\"\n",
    "SELECT COUNT(order_id) AS total_orders\n",
    "FROM orders;\n",
    "\"\"\"\n",
    "\n",
    "a = run_query(query)\n",
    "\n",
    "# Print in table format\n",
    "print(tabulate(a, headers=[\"Total Orders\"], tablefmt=\"psql\", showindex=False))\n",
    "\n"
   ]
  },
  {
   "cell_type": "code",
   "execution_count": 53,
   "id": "9ea4be87-c165-405d-8270-8e648e47bcff",
   "metadata": {},
   "outputs": [
    {
     "name": "stderr",
     "output_type": "stream",
     "text": [
      "C:\\Users\\babyd\\AppData\\Local\\Temp\\ipykernel_11900\\241142180.py:14: UserWarning: pandas only supports SQLAlchemy connectable (engine/connection) or database string URI or sqlite3 DBAPI2 connection. Other DBAPI2 objects are not tested. Please consider using SQLAlchemy.\n",
      "  return pd.read_sql(query, conn)\n"
     ]
    },
    {
     "name": "stdout",
     "output_type": "stream",
     "text": [
      "+-----------------+\n",
      "|   Total Revenue |\n",
      "|-----------------|\n",
      "|          817860 |\n",
      "+-----------------+\n"
     ]
    }
   ],
   "source": [
    "# Q: Calculate the total revenue generated from pizza sales\n",
    "query = \"\"\"\n",
    "SELECT \n",
    "    SUM(orders_details.quantity * pizzas.price) AS revenue\n",
    "FROM\n",
    "    orders_details\n",
    "JOIN\n",
    "    pizzas ON pizzas.pizza_id = orders_details.pizza_id;\n",
    "\"\"\"\n",
    "\n",
    "revenue_df = run_query(query)\n",
    "\n",
    "# Print in table format\n",
    "print(tabulate(revenue_df, headers=[\"Total Revenue\"], tablefmt=\"psql\", showindex=False))"
   ]
  },
  {
   "cell_type": "code",
   "execution_count": 51,
   "id": "cfbae57e-2265-4605-ab9a-1ddc15b450cf",
   "metadata": {},
   "outputs": [
    {
     "name": "stdout",
     "output_type": "stream",
     "text": [
      "+-----------------+---------+\n",
      "| Pizza Name      |   Price |\n",
      "|-----------------+---------|\n",
      "| The Greek Pizza |   35.95 |\n",
      "+-----------------+---------+\n"
     ]
    },
    {
     "name": "stderr",
     "output_type": "stream",
     "text": [
      "C:\\Users\\babyd\\AppData\\Local\\Temp\\ipykernel_11900\\241142180.py:14: UserWarning: pandas only supports SQLAlchemy connectable (engine/connection) or database string URI or sqlite3 DBAPI2 connection. Other DBAPI2 objects are not tested. Please consider using SQLAlchemy.\n",
      "  return pd.read_sql(query, conn)\n"
     ]
    }
   ],
   "source": [
    "# Q: Identify the highest-priced pizza\n",
    "query = \"\"\"\n",
    "SELECT \n",
    "    pizza_types.name, \n",
    "    pizzas.price\n",
    "FROM \n",
    "    pizza_types \n",
    "JOIN \n",
    "    pizzas ON pizza_types.pizza_type_id = pizzas.pizza_type_id\n",
    "ORDER BY \n",
    "    pizzas.price DESC\n",
    "LIMIT 1;\n",
    "\"\"\"\n",
    "\n",
    "highest_priced_pizza = run_query(query)\n",
    "\n",
    "# Print in table format\n",
    "print(tabulate(highest_priced_pizza, headers=[\"Pizza Name\", \"Price\"], tablefmt=\"psql\", showindex=False))"
   ]
  },
  {
   "cell_type": "code",
   "execution_count": 49,
   "id": "7f7b16ce-0c5f-4540-8c79-06aff4af368e",
   "metadata": {},
   "outputs": [
    {
     "name": "stderr",
     "output_type": "stream",
     "text": [
      "C:\\Users\\babyd\\AppData\\Local\\Temp\\ipykernel_11900\\241142180.py:14: UserWarning: pandas only supports SQLAlchemy connectable (engine/connection) or database string URI or sqlite3 DBAPI2 connection. Other DBAPI2 objects are not tested. Please consider using SQLAlchemy.\n",
      "  return pd.read_sql(query, conn)\n"
     ]
    },
    {
     "name": "stdout",
     "output_type": "stream",
     "text": [
      "+----------------------------+--------------------+\n",
      "| Pizza Name                 |   Quantity Ordered |\n",
      "|----------------------------+--------------------|\n",
      "| The Classic Deluxe Pizza   |               2453 |\n",
      "| The Barbecue Chicken Pizza |               2432 |\n",
      "| The Hawaiian Pizza         |               2422 |\n",
      "| The Pepperoni Pizza        |               2418 |\n",
      "| The Thai Chicken Pizza     |               2371 |\n",
      "+----------------------------+--------------------+\n"
     ]
    }
   ],
   "source": [
    "# Q: Top 5 most ordered pizzas by quantity\n",
    "query = \"\"\"\n",
    "SELECT \n",
    "    pizza_types.name, \n",
    "    SUM(orders_details.quantity) AS quantity\n",
    "FROM\n",
    "    pizza_types\n",
    "JOIN\n",
    "    pizzas ON pizza_types.pizza_type_id = pizzas.pizza_type_id\n",
    "JOIN\n",
    "    orders_details ON orders_details.pizza_id = pizzas.pizza_id\n",
    "GROUP BY \n",
    "    pizza_types.name\n",
    "ORDER BY \n",
    "    quantity DESC\n",
    "LIMIT 5;\n",
    "\"\"\"\n",
    "\n",
    "top_5_pizzas = run_query(query)\n",
    "\n",
    "# Print in table format\n",
    "print(tabulate(top_5_pizzas, headers=[\"Pizza Name\", \"Quantity Ordered\"], tablefmt=\"psql\", showindex=False))\n"
   ]
  },
  {
   "cell_type": "code",
   "execution_count": 47,
   "id": "8eca66c6-cc4b-4ff0-a7ff-0db67439e8a2",
   "metadata": {},
   "outputs": [
    {
     "name": "stderr",
     "output_type": "stream",
     "text": [
      "C:\\Users\\babyd\\AppData\\Local\\Temp\\ipykernel_11900\\241142180.py:14: UserWarning: pandas only supports SQLAlchemy connectable (engine/connection) or database string URI or sqlite3 DBAPI2 connection. Other DBAPI2 objects are not tested. Please consider using SQLAlchemy.\n",
      "  return pd.read_sql(query, conn)\n"
     ]
    },
    {
     "name": "stdout",
     "output_type": "stream",
     "text": [
      "+------------+------------------+\n",
      "| Category   |   Total Quantity |\n",
      "|------------+------------------|\n",
      "| Classic    |            14888 |\n",
      "| Supreme    |            11987 |\n",
      "| Veggie     |            11649 |\n",
      "| Chicken    |            11050 |\n",
      "+------------+------------------+\n"
     ]
    }
   ],
   "source": [
    "# Q: Total quantity of each pizza category ordered\n",
    "query = \"\"\"\n",
    "SELECT \n",
    "    pizza_types.category,\n",
    "    SUM(orders_details.quantity) AS quantity\n",
    "FROM\n",
    "    pizza_types\n",
    "JOIN\n",
    "    pizzas ON pizza_types.pizza_type_id = pizzas.pizza_type_id\n",
    "JOIN\n",
    "    orders_details ON orders_details.pizza_id = pizzas.pizza_id\n",
    "GROUP BY \n",
    "    pizza_types.category\n",
    "ORDER BY \n",
    "    quantity DESC;\n",
    "\"\"\"\n",
    "\n",
    "category_quantity = run_query(query)\n",
    "\n",
    "# Print in table format\n",
    "print(tabulate(category_quantity, headers=[\"Category\", \"Total Quantity\"], tablefmt=\"psql\", showindex=False))\n"
   ]
  },
  {
   "cell_type": "code",
   "execution_count": 21,
   "id": "64b720bd-dce0-4342-8d5f-4b8a0744ce32",
   "metadata": {},
   "outputs": [
    {
     "data": {
      "image/png": "[encoded data removed]",
      "text/plain": [
       "<Figure size 640x480 with 1 Axes>"
      ]
     },
     "metadata": {},
     "output_type": "display_data"
    }
   ],
   "source": [
    "import matplotlib.pyplot as plt\n",
    "\n",
    "plt.bar(category_quantity['category'], category_quantity['quantity'])\n",
    "plt.xlabel(\"Category\")\n",
    "plt.ylabel(\"Total Quantity Ordered\")\n",
    "plt.title(\"Total Quantity per Pizza Category\")\n",
    "plt.show()\n"
   ]
  },
  {
   "cell_type": "code",
   "execution_count": 45,
   "id": "74c623a6-715d-4602-a945-b80559f82c7b",
   "metadata": {},
   "outputs": [
    {
     "name": "stdout",
     "output_type": "stream",
     "text": [
      "+--------+---------------+\n",
      "|   Hour |   Order Count |\n",
      "|--------+---------------|\n",
      "|      9 |             1 |\n",
      "|     10 |             8 |\n",
      "|     11 |          1231 |\n",
      "|     12 |          2520 |\n",
      "|     13 |          2455 |\n",
      "|     14 |          1472 |\n",
      "|     15 |          1468 |\n",
      "|     16 |          1920 |\n",
      "|     17 |          2336 |\n",
      "|     18 |          2399 |\n",
      "|     19 |          2009 |\n",
      "|     20 |          1642 |\n",
      "|     21 |          1198 |\n",
      "|     22 |           663 |\n",
      "|     23 |            28 |\n",
      "+--------+---------------+\n"
     ]
    },
    {
     "name": "stderr",
     "output_type": "stream",
     "text": [
      "C:\\Users\\babyd\\AppData\\Local\\Temp\\ipykernel_11900\\241142180.py:14: UserWarning: pandas only supports SQLAlchemy connectable (engine/connection) or database string URI or sqlite3 DBAPI2 connection. Other DBAPI2 objects are not tested. Please consider using SQLAlchemy.\n",
      "  return pd.read_sql(query, conn)\n"
     ]
    }
   ],
   "source": [
    "# Query: Distribution of orders by hour of the day\n",
    "query = \"\"\"\n",
    "SELECT \n",
    "    HOUR(order_time) AS hour, \n",
    "    COUNT(order_id) AS order_count\n",
    "FROM\n",
    "    orders\n",
    "GROUP BY \n",
    "    HOUR(order_time)\n",
    "ORDER BY \n",
    "    hour;\n",
    "\"\"\"\n",
    "\n",
    "orders_by_hour = run_query(query)\n",
    "\n",
    "# Print with tabulate format\n",
    "print(tabulate(orders_by_hour, headers=[\"Hour\", \"Order Count\"], tablefmt=\"psql\", showindex=False))"
   ]
  },
  {
   "cell_type": "code",
   "execution_count": 25,
   "id": "a924eeeb-92ac-4c9b-abf7-08bd1c0211f9",
   "metadata": {},
   "outputs": [
    {
     "data": {
      "image/png": "[encoded data removed]",
      "text/plain": [
       "<Figure size 640x480 with 1 Axes>"
      ]
     },
     "metadata": {},
     "output_type": "display_data"
    }
   ],
   "source": [
    "\n",
    "plt.bar(orders_by_hour['hour'], orders_by_hour['order_count'])\n",
    "plt.xlabel(\"Hour of the Day\")\n",
    "plt.ylabel(\"Number of Orders\")\n",
    "plt.title(\"Distribution of Orders by Hour\")\n",
    "plt.xticks(range(0, 24))\n",
    "plt.show()\n"
   ]
  },
  {
   "cell_type": "code",
   "execution_count": 43,
   "id": "bde62aab-e7a6-4d28-90ac-b14990e2f8a6",
   "metadata": {},
   "outputs": [
    {
     "name": "stderr",
     "output_type": "stream",
     "text": [
      "C:\\Users\\babyd\\AppData\\Local\\Temp\\ipykernel_11900\\241142180.py:14: UserWarning: pandas only supports SQLAlchemy connectable (engine/connection) or database string URI or sqlite3 DBAPI2 connection. Other DBAPI2 objects are not tested. Please consider using SQLAlchemy.\n",
      "  return pd.read_sql(query, conn)\n"
     ]
    },
    {
     "name": "stdout",
     "output_type": "stream",
     "text": [
      "+----------------------+\n",
      "|   avg_pizzas_per_day |\n",
      "|----------------------|\n",
      "|              138.475 |\n",
      "+----------------------+\n"
     ]
    }
   ],
   "source": [
    "from tabulate import tabulate\n",
    "\n",
    "# Query to get average pizzas per day\n",
    "query = \"\"\"\n",
    "SELECT \n",
    "    AVG(quantity) AS avg_pizzas_per_day\n",
    "FROM\n",
    "    (\n",
    "        SELECT \n",
    "            orders.order_date, \n",
    "            SUM(orders_details.quantity) AS quantity\n",
    "        FROM\n",
    "            orders\n",
    "        JOIN \n",
    "            orders_details \n",
    "            ON orders.order_id = orders_details.order_id\n",
    "        GROUP BY \n",
    "            orders.order_date\n",
    "    ) AS order_quantity;\n",
    "\"\"\"\n",
    "\n",
    "# Run the query\n",
    "avg_pizzas_per_day = run_query(query)\n",
    "\n",
    "# Print in tabulate format with headings\n",
    "print(tabulate(avg_pizzas_per_day, headers=[\"avg_pizzas_per_day\"], tablefmt=\"psql\", showindex=False))\n",
    "\n"
   ]
  },
  {
   "cell_type": "code",
   "execution_count": 61,
   "id": "cb0e3b1f-3bb7-4f26-b861-e2e5ebd7d138",
   "metadata": {},
   "outputs": [
    {
     "name": "stderr",
     "output_type": "stream",
     "text": [
      "C:\\Users\\babyd\\AppData\\Local\\Temp\\ipykernel_11900\\241142180.py:14: UserWarning: pandas only supports SQLAlchemy connectable (engine/connection) or database string URI or sqlite3 DBAPI2 connection. Other DBAPI2 objects are not tested. Please consider using SQLAlchemy.\n",
      "  return pd.read_sql(query, conn)\n"
     ]
    },
    {
     "name": "stdout",
     "output_type": "stream",
     "text": [
      "+------------+-----------+-------------+\n",
      "| Category   |   Revenue |   Revenue % |\n",
      "|------------+-----------+-------------|\n",
      "| Classic    |    220053 |       26.91 |\n",
      "| Supreme    |    208197 |       25.46 |\n",
      "| Chicken    |    195920 |       23.96 |\n",
      "| Veggie     |    193690 |       23.68 |\n",
      "+------------+-----------+-------------+\n"
     ]
    }
   ],
   "source": [
    "\n",
    "from tabulate import tabulate\n",
    "\n",
    "# Q: Percentage contribution of each pizza type to total revenue\n",
    "query = \"\"\"\n",
    "SELECT \n",
    "    pt.category,\n",
    "    SUM(od.quantity * p.price) AS revenue,\n",
    "    (SUM(od.quantity * p.price) / MAX(total_sales.total)) * 100 AS revenue_percentage\n",
    "FROM \n",
    "    pizza_types AS pt\n",
    "JOIN \n",
    "    pizzas AS p ON pt.pizza_type_id = p.pizza_type_id\n",
    "JOIN \n",
    "    orders_details AS od ON od.pizza_id = p.pizza_id\n",
    "CROSS JOIN (\n",
    "    SELECT SUM(od2.quantity * p2.price) AS total\n",
    "    FROM pizzas AS p2\n",
    "    JOIN orders_details AS od2 ON od2.pizza_id = p2.pizza_id\n",
    ") AS total_sales\n",
    "GROUP BY \n",
    "    pt.category\n",
    "ORDER BY \n",
    "    revenue DESC;\n",
    "\"\"\"\n",
    "\n",
    "revenue_percentage = run_query(query)\n",
    "\n",
    "# Print in table format with headers and 2 decimals for revenue and percentage\n",
    "revenue_percentage['revenue'] = revenue_percentage['revenue'].round(2)\n",
    "revenue_percentage['revenue_percentage'] = revenue_percentage['revenue_percentage'].round(2)\n",
    "\n",
    "print(tabulate(revenue_percentage, headers=[\"Category\", \"Revenue\", \"Revenue %\"], tablefmt=\"psql\", showindex=False))\n"
   ]
  },
  {
   "cell_type": "code",
   "execution_count": 35,
   "id": "a734e851-f50f-4359-b5c5-b217137fefcf",
   "metadata": {},
   "outputs": [
    {
     "name": "stderr",
     "output_type": "stream",
     "text": [
      "C:\\Users\\babyd\\AppData\\Local\\Temp\\ipykernel_11900\\3111981708.py:29: UserWarning: pandas only supports SQLAlchemy connectable (engine/connection) or database string URI or sqlite3 DBAPI2 connection. Other DBAPI2 objects are not tested. Please consider using SQLAlchemy.\n",
      "  df_top_pizzas = pd.read_sql(query, conn)\n"
     ]
    },
    {
     "name": "stdout",
     "output_type": "stream",
     "text": [
      "+------------+------------------------------+-----------+\n",
      "| category   | name                         |   revenue |\n",
      "|------------+------------------------------+-----------|\n",
      "| Chicken    | The Thai Chicken Pizza       |   43434.2 |\n",
      "| Chicken    | The Barbecue Chicken Pizza   |   42768   |\n",
      "| Chicken    | The California Chicken Pizza |   41409.5 |\n",
      "| Classic    | The Classic Deluxe Pizza     |   38180.5 |\n",
      "| Classic    | The Hawaiian Pizza           |   32273.2 |\n",
      "| Classic    | The Pepperoni Pizza          |   30161.8 |\n",
      "| Supreme    | The Spicy Italian Pizza      |   34831.2 |\n",
      "| Supreme    | The Italian Supreme Pizza    |   33476.8 |\n",
      "| Supreme    | The Sicilian Pizza           |   30940.5 |\n",
      "| Veggie     | The Four Cheese Pizza        |   32265.7 |\n",
      "| Veggie     | The Mexicana Pizza           |   26780.8 |\n",
      "| Veggie     | The Five Cheese Pizza        |   26066.5 |\n",
      "+------------+------------------------------+-----------+\n"
     ]
    }
   ],
   "source": [
    "# Top 3 most ordered pizza types by revenue for each category\n",
    "query = \"\"\"\n",
    "SELECT category, name, revenue \n",
    "FROM (\n",
    "    SELECT \n",
    "        category, \n",
    "        name, \n",
    "        revenue,\n",
    "        RANK() OVER(PARTITION BY category ORDER BY revenue DESC) AS rn\n",
    "    FROM (\n",
    "        SELECT \n",
    "            pizza_types.category, \n",
    "            pizza_types.name,\n",
    "            SUM(orders_details.quantity * pizzas.price) AS revenue\n",
    "        FROM \n",
    "            pizza_types \n",
    "        JOIN \n",
    "            pizzas ON pizza_types.pizza_type_id = pizzas.pizza_type_id\n",
    "        JOIN \n",
    "            orders_details ON orders_details.pizza_id = pizzas.pizza_id\n",
    "        GROUP BY \n",
    "            pizza_types.category, pizza_types.name\n",
    "    ) AS a\n",
    ") AS b\n",
    "WHERE rn <= 3;\n",
    "\"\"\"\n",
    "\n",
    "# Read into a DataFrame\n",
    "df_top_pizzas = pd.read_sql(query, conn)\n",
    "\n",
    "# Format numbers for readability\n",
    "df_top_pizzas['revenue'] = df_top_pizzas['revenue'].round(2)\n",
    "\n",
    "from tabulate import tabulate\n",
    "\n",
    "print(tabulate(df_top_pizzas, headers='keys', tablefmt='psql', showindex=False))"
   ]
  },
  {
   "cell_type": "code",
   "execution_count": 67,
   "id": "81a6967d-8adb-40e5-b86a-573a523ea484",
   "metadata": {},
   "outputs": [],
   "source": [
    "import pandas as pd\n",
    "import numpy as np\n",
    "from sklearn.model_selection import train_test_split, TimeSeriesSplit\n",
    "from sklearn.ensemble import RandomForestRegressor\n",
    "from sklearn.metrics import mean_squared_error\n",
    "import matplotlib.pyplot as plt"
   ]
  },
  {
   "cell_type": "code",
   "execution_count": 69,
   "id": "90c35298-6f3f-4891-ae0b-fe4643897111",
   "metadata": {},
   "outputs": [
    {
     "name": "stdout",
     "output_type": "stream",
     "text": [
      "   order_date  total_quantity\n",
      "0  2015-01-01           162.0\n",
      "1  2015-01-02           165.0\n",
      "2  2015-01-03           158.0\n",
      "3  2015-01-04           106.0\n",
      "4  2015-01-05           125.0\n"
     ]
    },
    {
     "name": "stderr",
     "output_type": "stream",
     "text": [
      "C:\\Users\\babyd\\AppData\\Local\\Temp\\ipykernel_11900\\2935049091.py:13: UserWarning: pandas only supports SQLAlchemy connectable (engine/connection) or database string URI or sqlite3 DBAPI2 connection. Other DBAPI2 objects are not tested. Please consider using SQLAlchemy.\n",
      "  df_daily = pd.read_sql(query, conn)\n"
     ]
    }
   ],
   "source": [
    "# Fetch daily total pizza quantity\n",
    "\n",
    "query = \"\"\"\n",
    "SELECT \n",
    "    o.order_date,\n",
    "    SUM(od.quantity) AS total_quantity\n",
    "FROM orders o\n",
    "JOIN orders_details od ON o.order_id = od.order_id\n",
    "GROUP BY o.order_date\n",
    "ORDER BY o.order_date;\n",
    "\"\"\"\n",
    "\n",
    "df_daily = pd.read_sql(query, conn)\n",
    "print(df_daily.head())"
   ]
  },
  {
   "cell_type": "code",
   "execution_count": 71,
   "id": "b80fac51-10e5-4d0e-9b5c-2a6d18d1c7b0",
   "metadata": {},
   "outputs": [
    {
     "name": "stderr",
     "output_type": "stream",
     "text": [
      "C:\\Users\\babyd\\AppData\\Local\\Temp\\ipykernel_11900\\1978372991.py:16: UserWarning: pandas only supports SQLAlchemy connectable (engine/connection) or database string URI or sqlite3 DBAPI2 connection. Other DBAPI2 objects are not tested. Please consider using SQLAlchemy.\n",
      "  df_cat = pd.read_sql(query_cat, conn)\n"
     ]
    },
    {
     "name": "stdout",
     "output_type": "stream",
     "text": [
      "category  order_date  Chicken  Classic  Supreme  Veggie\n",
      "0         2015-01-01     36.0     46.0     39.0    41.0\n",
      "1         2015-01-02     32.0     57.0     45.0    31.0\n",
      "2         2015-01-03     42.0     47.0     32.0    37.0\n",
      "3         2015-01-04     28.0     26.0     28.0    24.0\n",
      "4         2015-01-05     31.0     37.0     28.0    29.0\n"
     ]
    }
   ],
   "source": [
    "#Fetch daily sales by pizza category (optional but useful)\n",
    "\n",
    "query_cat = \"\"\"\n",
    "SELECT\n",
    "    o.order_date,\n",
    "    pt.category,\n",
    "    SUM(od.quantity) AS quantity\n",
    "FROM orders o\n",
    "JOIN orders_details od ON o.order_id = od.order_id\n",
    "JOIN pizzas p ON od.pizza_id = p.pizza_id\n",
    "JOIN pizza_types pt ON p.pizza_type_id = pt.pizza_type_id\n",
    "GROUP BY o.order_date, pt.category\n",
    "ORDER BY o.order_date;\n",
    "\"\"\"\n",
    "\n",
    "df_cat = pd.read_sql(query_cat, conn)\n",
    "\n",
    "# Pivot category sales so each category is a column\n",
    "df_cat_pivot = df_cat.pivot(index='order_date', columns='category', values='quantity').fillna(0).reset_index()\n",
    "print(df_cat_pivot.head())"
   ]
  },
  {
   "cell_type": "code",
   "execution_count": 73,
   "id": "6ea99562-b26c-4c96-8741-2308bfdbdff9",
   "metadata": {},
   "outputs": [
    {
     "name": "stdout",
     "output_type": "stream",
     "text": [
      "   order_date  total_quantity  Chicken  Classic  Supreme  Veggie  day_of_week  \\\n",
      "6  2015-01-07           138.0     28.0     45.0     33.0    32.0            2   \n",
      "7  2015-01-08           173.0     31.0     47.0     46.0    49.0            3   \n",
      "8  2015-01-09           127.0     21.0     40.0     34.0    32.0            4   \n",
      "9  2015-01-10           146.0     27.0     37.0     40.0    42.0            5   \n",
      "10 2015-01-11           116.0     22.0     31.0     37.0    26.0            6   \n",
      "\n",
      "    month  is_weekend  lag_1   rolling_7  \n",
      "6       1           0  147.0  143.000000  \n",
      "7       1           0  138.0  144.571429  \n",
      "8       1           0  173.0  139.142857  \n",
      "9       1           1  127.0  137.428571  \n",
      "10      1           1  146.0  138.857143  \n"
     ]
    }
   ],
   "source": [
    "#Merge total quantity with category sales and create features\n",
    "\n",
    "# Merge\n",
    "df = pd.merge(df_daily, df_cat_pivot, on='order_date', how='left')\n",
    "\n",
    "# Convert order_date to datetime\n",
    "df['order_date'] = pd.to_datetime(df['order_date'])\n",
    "\n",
    "# Sort by date\n",
    "df = df.sort_values('order_date')\n",
    "\n",
    "# Date-based features\n",
    "df['day_of_week'] = df['order_date'].dt.dayofweek\n",
    "df['month'] = df['order_date'].dt.month\n",
    "df['is_weekend'] = df['day_of_week'].isin([5,6]).astype(int)\n",
    "\n",
    "# Lag features (previous day sales)\n",
    "df['lag_1'] = df['total_quantity'].shift(1)\n",
    "\n",
    "# Rolling mean (7 days)\n",
    "df['rolling_7'] = df['total_quantity'].rolling(window=7).mean()\n",
    "\n",
    "# Drop rows with NaNs due to lag/rolling\n",
    "df = df.dropna()\n",
    "\n",
    "print(df.head())"
   ]
  },
  {
   "cell_type": "code",
   "execution_count": 75,
   "id": "2a0cea30-49c0-4d5a-8d4d-da402aaa461c",
   "metadata": {},
   "outputs": [],
   "source": [
    "\n",
    "#Prepare features and target\n",
    "\n",
    "feature_cols = ['day_of_week', 'month', 'is_weekend', 'lag_1', 'rolling_7'] + list(df_cat_pivot.columns[1:])\n",
    "X = df[feature_cols]\n",
    "y = df['total_quantity']"
   ]
  },
  {
   "cell_type": "code",
   "execution_count": 77,
   "id": "c26fff8c-f19a-4dbe-a955-8ca74439823c",
   "metadata": {},
   "outputs": [
    {
     "name": "stdout",
     "output_type": "stream",
     "text": [
      "Fold 1 RMSE: 7.44\n",
      "Fold 2 RMSE: 9.32\n",
      "Fold 3 RMSE: 10.72\n"
     ]
    }
   ],
   "source": [
    "tscv = TimeSeriesSplit(n_splits=3)\n",
    "\n",
    "for fold, (train_idx, test_idx) in enumerate(tscv.split(X)):\n",
    "    X_train, X_test = X.iloc[train_idx], X.iloc[test_idx]\n",
    "    y_train, y_test = y.iloc[train_idx], y.iloc[test_idx]\n",
    "    \n",
    "    model = RandomForestRegressor(n_estimators=100, random_state=42)\n",
    "    model.fit(X_train, y_train)\n",
    "    \n",
    "    preds = model.predict(X_test)\n",
    "    rmse = np.sqrt(mean_squared_error(y_test, preds))\n",
    "    \n",
    "    print(f\"Fold {fold+1} RMSE: {rmse:.2f}\")\n"
   ]
  },
  {
   "cell_type": "code",
   "execution_count": 79,
   "id": "fed550fa-be5c-420e-9ac3-b88613574f24",
   "metadata": {},
   "outputs": [
    {
     "data": {
      "image/png": "[encoded data removed]",
      "text/plain": [
       "<Figure size 1000x500 with 1 Axes>"
      ]
     },
     "metadata": {},
     "output_type": "display_data"
    }
   ],
   "source": [
    "#Plot actual vs predicted for last fold\n",
    "\n",
    "plt.figure(figsize=(10,5))\n",
    "plt.plot(y_test.index, y_test, label='Actual')\n",
    "plt.plot(y_test.index, preds, label='Predicted')\n",
    "plt.xlabel(\"Date Index\")\n",
    "plt.ylabel(\"Total Quantity\")\n",
    "plt.title(\"Actual vs Predicted Daily Pizza Sales\")\n",
    "plt.legend()\n",
    "plt.show()"
   ]
  },
  {
   "cell_type": "code",
   "execution_count": 124,
   "id": "e9c97f32-d1ea-42a8-ab6a-d94a77561a8b",
   "metadata": {},
   "outputs": [
    {
     "name": "stderr",
     "output_type": "stream",
     "text": [
      "C:\\Users\\babyd\\AppData\\Local\\Temp\\ipykernel_11900\\3140283888.py:28: UserWarning: pandas only supports SQLAlchemy connectable (engine/connection) or database string URI or sqlite3 DBAPI2 connection. Other DBAPI2 objects are not tested. Please consider using SQLAlchemy.\n",
      "  popular_pizzas = pd.read_sql(query_popular, conn)\n",
      "C:\\Users\\babyd\\AppData\\Local\\Temp\\ipykernel_11900\\3140283888.py:32: UserWarning: pandas only supports SQLAlchemy connectable (engine/connection) or database string URI or sqlite3 DBAPI2 connection. Other DBAPI2 objects are not tested. Please consider using SQLAlchemy.\n",
      "  pizza_df = pd.read_sql(query_pizzas, conn)\n"
     ]
    }
   ],
   "source": [
    "import tkinter as tk\n",
    "from tkinter import ttk\n",
    "import mysql.connector\n",
    "import pandas as pd\n",
    "from sklearn.feature_extraction.text import TfidfVectorizer\n",
    "from sklearn.metrics.pairwise import linear_kernel\n",
    "\n",
    "# Connect to your database (update credentials)\n",
    "conn = mysql.connector.connect(\n",
    "    host=\"localhost\",\n",
    "    user=\"root\",\n",
    "    password=\"123456\",\n",
    "    database=\"pizzahut\"\n",
    ")\n",
    "\n",
    "# Fetch popular pizzas\n",
    "query_popular = \"\"\"\n",
    "SELECT\n",
    "    pt.name,\n",
    "    SUM(od.quantity) AS total_quantity\n",
    "FROM orders_details od\n",
    "JOIN pizzas p ON od.pizza_id = p.pizza_id\n",
    "JOIN pizza_types pt ON p.pizza_type_id = pt.pizza_type_id\n",
    "GROUP BY pt.name\n",
    "ORDER BY total_quantity DESC\n",
    "LIMIT 5;\n",
    "\"\"\"\n",
    "popular_pizzas = pd.read_sql(query_popular, conn)\n",
    "\n",
    "# Fetch pizza details for content-based recommendations\n",
    "query_pizzas = \"SELECT pizza_type_id, name, category, ingredients FROM pizza_types;\"\n",
    "pizza_df = pd.read_sql(query_pizzas, conn)\n",
    "\n",
    "conn.close()\n",
    "\n",
    "# Prepare TF-IDF matrix for similarity\n",
    "pizza_df['features'] = pizza_df['category'] + \" \" + pizza_df['ingredients']\n",
    "tfidf = TfidfVectorizer(stop_words='english')\n",
    "tfidf_matrix = tfidf.fit_transform(pizza_df['features'])\n",
    "cosine_sim = linear_kernel(tfidf_matrix, tfidf_matrix)\n",
    "\n",
    "def get_similar_pizzas(pizza_name, top_n=5):\n",
    "    pizza_name = pizza_name.strip().lower()  # normalize input\n",
    "    pizza_df['name_lower'] = pizza_df['name'].str.strip().str.lower()  # normalize df names\n",
    "\n",
    "    if pizza_name not in pizza_df['name_lower'].values:\n",
    "        return []\n",
    "    idx = pizza_df.index[pizza_df['name_lower'] == pizza_name][0]\n",
    "    sim_scores = list(enumerate(cosine_sim[idx]))\n",
    "    sim_scores = sorted(sim_scores, key=lambda x: x[1], reverse=True)\n",
    "    sim_scores = sim_scores[1:top_n+1]  # exclude itself\n",
    "    similar_pizzas = pizza_df['name'].iloc[[i[0] for i in sim_scores]]\n",
    "    return similar_pizzas.tolist()\n",
    "\n",
    "# Tkinter UI\n",
    "root = tk.Tk()\n",
    "root.title(\"Pizza Recommendation System\")\n",
    "root.geometry(\"700x600\")\n",
    "root.configure(bg=\"#FEEBE7\")  # light gray background\n",
    "\n",
    "# Popular pizzas label and list\n",
    "tk.Label(root, text=\"Top 5 Popular Pizzas:\", font=(\"Arial\", 16, \"bold\"), fg=\"red\", bg=\"white\").pack(pady=10)\n",
    "popular_listbox = tk.Listbox(root, height=6,width=25 ,font=(\"Arial\", 12))\n",
    "for pizza in popular_pizzas['name']:\n",
    "    popular_listbox.insert(tk.END, pizza)\n",
    "popular_listbox.pack(pady=5)\n",
    "\n",
    "# Dropdown to select pizza\n",
    "tk.Label(root, text=\"Select a Pizza to get Similar Recommendations:\", font=(\"Arial\", 14, \"bold\"), fg=\"red\", bg=\"white\").pack(pady=15)\n",
    "\n",
    "pizza_names = pizza_df['name'].tolist()\n",
    "selected_pizza = tk.StringVar()\n",
    "dropdown = ttk.Combobox(root, textvariable=selected_pizza, values=pizza_names, font=(\"Arial\", 12), width=25)\n",
    "dropdown.pack(pady=5)\n",
    "dropdown.current(0)  # Set first pizza as default\n",
    "\n",
    "# Recommendation result label\n",
    "result_label = tk.Label(root, text=\"Similar pizzas will appear here.\", font=(\"Arial\", 14), fg=\"red\", bg=\"white\", justify=\"left\")\n",
    "result_label.pack(pady=20)\n",
    "\n",
    "# Button callback\n",
    "def show_recommendations():\n",
    "    pizza = selected_pizza.get()\n",
    "    pizza = pizza.strip()\n",
    "    print(f\"Selected pizza: '{pizza}'\")  # debug print\n",
    "    if pizza == \"\":\n",
    "        result_label.config(text=\"Please select a pizza.\")\n",
    "        return\n",
    "    recs = get_similar_pizzas(pizza)\n",
    "    if not recs:\n",
    "        result_label.config(text=f\"No recommendations found for '{pizza}'.\")\n",
    "    else:\n",
    "        rec_text = \"Similar pizzas:\\n\" + \"\\n\".join(recs)\n",
    "        result_label.config(text=rec_text)\n",
    "\n",
    "# Button with red background and white text\n",
    "rec_button = tk.Button(root, text=\"Get Recommendations\", command=show_recommendations,\n",
    "                       bg=\"red\", fg=\"white\", font=(\"Arial\", 25, \"bold\"), activebackground=\"#b22222\", activeforeground=\"white\")\n",
    "rec_button.pack(pady=10)\n",
    "\n",
    "root.mainloop()\n"
   ]
  },
  {
   "cell_type": "code",
   "execution_count": null,
   "id": "c79cf5ec-2720-4e00-8d1c-c11c3aea5a6d",
   "metadata": {},
   "outputs": [],
   "source": []
  }
 ],
 "metadata": {
  "kernelspec": {
   "display_name": "Python 3 (ipykernel)",
   "language": "python",
   "name": "python3"
  },
  "language_info": {
   "codemirror_mode": {
    "name": "ipython",
    "version": 3
   },
   "file_extension": ".py",
   "mimetype": "text/x-python",
   "name": "python",
   "nbconvert_exporter": "python",
   "pygments_lexer": "ipython3",
   "version": "3.12.7"
  }
 },
 "nbformat": 4,
 "nbformat_minor": 5
}
